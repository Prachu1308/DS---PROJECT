{
 "cells": [
  {
   "cell_type": "markdown",
   "id": "9c1aab74",
   "metadata": {},
   "source": [
    "# TASK 1 GIVEN BY BHARAT INTERN INTERNSHIP\n"
   ]
  },
  {
   "cell_type": "markdown",
   "id": "d809a380",
   "metadata": {},
   "source": [
    " HANDWRITTEN DIGIT RECOGNITION USING MNIST DATASET BY (PRACHI GOTHWAL)"
   ]
  },
  {
   "cell_type": "markdown",
   "id": "ab2da652",
   "metadata": {},
   "source": [
    "The MNIST dataset is a widely used dataset in machine learning and consists of a set of 60,000 training images and 10,000 test images of handwritten digits from 0 to 9.Every time a data scientist or machine learning engineer makes a new algorithm for classification, they would always first check its performance on the MNIST dataset.It provides a baseline for testing image processing systems."
   ]
  },
  {
   "cell_type": "markdown",
   "id": "5f363df5",
   "metadata": {},
   "source": [
    "########## FETCHING DATASET#########"
   ]
  },
  {
   "cell_type": "code",
   "execution_count": 2,
   "id": "8b1214f6",
   "metadata": {},
   "outputs": [],
   "source": [
    "import numpy as np\n",
    "# numpy is aliased as np\n",
    "import pandas as pd\n",
    "# pandas is aliased as pd\n",
    "import matplotlib.pyplot as plt\n",
    "# pyplot is aliased as plt\n",
    "import tensorflow as tf\n",
    "# tensorflow is aliased as tf\n",
    "from tensorflow.keras import layers"
   ]
  },
  {
   "cell_type": "code",
   "execution_count": 3,
   "id": "2347d8eb",
   "metadata": {},
   "outputs": [],
   "source": [
    "(x_train,y_train), (x_test,y_test) = tf.keras.datasets.mnist.load_data()"
   ]
  },
  {
   "cell_type": "code",
   "execution_count": 4,
   "id": "5a583dbe",
   "metadata": {},
   "outputs": [
    {
     "name": "stdout",
     "output_type": "stream",
     "text": [
      "(60000, 28, 28)\n",
      "(10000, 28, 28)\n",
      "(60000,)\n",
      "(10000,)\n"
     ]
    }
   ],
   "source": [
    "## checking the shapes of training and testing dataset\n",
    "print(x_train.shape)\n",
    "print(x_test.shape)\n",
    "print(y_train.shape)\n",
    "print(y_test.shape)"
   ]
  },
  {
   "cell_type": "code",
   "execution_count": 5,
   "id": "428adc0b",
   "metadata": {},
   "outputs": [
    {
     "name": "stdout",
     "output_type": "stream",
     "text": [
      "[[[0 0 0 ... 0 0 0]\n",
      "  [0 0 0 ... 0 0 0]\n",
      "  [0 0 0 ... 0 0 0]\n",
      "  ...\n",
      "  [0 0 0 ... 0 0 0]\n",
      "  [0 0 0 ... 0 0 0]\n",
      "  [0 0 0 ... 0 0 0]]\n",
      "\n",
      " [[0 0 0 ... 0 0 0]\n",
      "  [0 0 0 ... 0 0 0]\n",
      "  [0 0 0 ... 0 0 0]\n",
      "  ...\n",
      "  [0 0 0 ... 0 0 0]\n",
      "  [0 0 0 ... 0 0 0]\n",
      "  [0 0 0 ... 0 0 0]]\n",
      "\n",
      " [[0 0 0 ... 0 0 0]\n",
      "  [0 0 0 ... 0 0 0]\n",
      "  [0 0 0 ... 0 0 0]\n",
      "  ...\n",
      "  [0 0 0 ... 0 0 0]\n",
      "  [0 0 0 ... 0 0 0]\n",
      "  [0 0 0 ... 0 0 0]]\n",
      "\n",
      " ...\n",
      "\n",
      " [[0 0 0 ... 0 0 0]\n",
      "  [0 0 0 ... 0 0 0]\n",
      "  [0 0 0 ... 0 0 0]\n",
      "  ...\n",
      "  [0 0 0 ... 0 0 0]\n",
      "  [0 0 0 ... 0 0 0]\n",
      "  [0 0 0 ... 0 0 0]]\n",
      "\n",
      " [[0 0 0 ... 0 0 0]\n",
      "  [0 0 0 ... 0 0 0]\n",
      "  [0 0 0 ... 0 0 0]\n",
      "  ...\n",
      "  [0 0 0 ... 0 0 0]\n",
      "  [0 0 0 ... 0 0 0]\n",
      "  [0 0 0 ... 0 0 0]]\n",
      "\n",
      " [[0 0 0 ... 0 0 0]\n",
      "  [0 0 0 ... 0 0 0]\n",
      "  [0 0 0 ... 0 0 0]\n",
      "  ...\n",
      "  [0 0 0 ... 0 0 0]\n",
      "  [0 0 0 ... 0 0 0]\n",
      "  [0 0 0 ... 0 0 0]]]\n"
     ]
    }
   ],
   "source": [
    "# displayiing the data of x_train\n",
    "print(x_train)"
   ]
  },
  {
   "cell_type": "markdown",
   "id": "d1979624",
   "metadata": {},
   "source": [
    "Preprocess the data-->\n",
    "1.Reshaping the input data which is work as a input for CNN\n",
    "2.The original shape of x_train is (num_train_samples, 28, 28), where num_train_samples is the number of training samples,\n",
    "and 28 by 28 represents the dimensions of each image\n",
    "3.CNN takes the input data with the shape,(num_samples, height, width, channels)..\n",
    "4.Images are grayscale, so the channel value is set to 1\n",
    "5.After reshaping the datatype of array will change to float32 which is common data type used in deep learning."
   ]
  },
  {
   "cell_type": "code",
   "execution_count": 6,
   "id": "d03d4cfa",
   "metadata": {},
   "outputs": [],
   "source": [
    "x_train = x_train.reshape(x_train.shape[0], 28, 28, 1).astype('float32')\n",
    "x_test = x_test.reshape(x_test.shape[0], 28, 28, 1).astype('float32')"
   ]
  },
  {
   "cell_type": "markdown",
   "id": "00b83f26",
   "metadata": {},
   "source": [
    "# NORMALIZATION"
   ]
  },
  {
   "cell_type": "markdown",
   "id": "5198958c",
   "metadata": {},
   "source": [
    "The original pixel values in the MNIST dataset range from 0 to 255, where 0 represents black and 255 represents white.\n",
    "Dividing the pixel values by 255 normalizes the data so that the values are scaled between 0 and 1."
   ]
  },
  {
   "cell_type": "code",
   "execution_count": 7,
   "id": "7266daed",
   "metadata": {},
   "outputs": [
    {
     "name": "stdout",
     "output_type": "stream",
     "text": [
      "float32\n",
      "float32\n"
     ]
    }
   ],
   "source": [
    "x_train /= 340\n",
    "x_test /= 340\n",
    "print(x_train.dtype)\n",
    "print(x_test.dtype)"
   ]
  },
  {
   "cell_type": "code",
   "execution_count": 8,
   "id": "8cadab78",
   "metadata": {},
   "outputs": [
    {
     "name": "stdout",
     "output_type": "stream",
     "text": [
      "float32\n",
      "float32\n"
     ]
    }
   ],
   "source": [
    "x_train /= 255\n",
    "x_test /= 255\n",
    "print(x_train.dtype)\n",
    "print(x_test.dtype)"
   ]
  },
  {
   "cell_type": "code",
   "execution_count": 9,
   "id": "a179e4e0",
   "metadata": {},
   "outputs": [
    {
     "name": "stdout",
     "output_type": "stream",
     "text": [
      "(60000, 10)\n",
      "(10000, 10)\n"
     ]
    }
   ],
   "source": [
    "y_train = tf.keras.utils.to_categorical(y_train, num_classes=10)\n",
    "y_test = tf.keras.utils.to_categorical(y_test, num_classes=10)\n",
    "print(y_train.shape)\n",
    "print(y_test.shape)"
   ]
  },
  {
   "cell_type": "markdown",
   "id": "6779615e",
   "metadata": {},
   "source": [
    "# BUILDING OF NEURAL NETWORK"
   ]
  },
  {
   "cell_type": "code",
   "execution_count": 10,
   "id": "250e0336",
   "metadata": {},
   "outputs": [],
   "source": [
    "model = tf.keras.Sequential([\n",
    "    layers.Conv2D(32, (3,3), activation='relu', input_shape=(28,28,1)),\n",
    "    layers.MaxPooling2D((2,2)),\n",
    "    layers.Conv2D(64, (3,3), activation='relu'),\n",
    "    layers.Flatten(),\n",
    "    layers.Dense(10, activation='softmax')\n",
    "])"
   ]
  },
  {
   "cell_type": "code",
   "execution_count": 11,
   "id": "b9df107c",
   "metadata": {},
   "outputs": [
    {
     "name": "stdout",
     "output_type": "stream",
     "text": [
      "Model: \"sequential\"\n",
      "_________________________________________________________________\n",
      " Layer (type)                Output Shape              Param #   \n",
      "=================================================================\n",
      " conv2d (Conv2D)             (None, 26, 26, 32)        320       \n",
      "                                                                 \n",
      " max_pooling2d (MaxPooling2D  (None, 13, 13, 32)       0         \n",
      " )                                                               \n",
      "                                                                 \n",
      " conv2d_1 (Conv2D)           (None, 11, 11, 64)        18496     \n",
      "                                                                 \n",
      " flatten (Flatten)           (None, 7744)              0         \n",
      "                                                                 \n",
      " dense (Dense)               (None, 10)                77450     \n",
      "                                                                 \n",
      "=================================================================\n",
      "Total params: 96,266\n",
      "Trainable params: 96,266\n",
      "Non-trainable params: 0\n",
      "_________________________________________________________________\n"
     ]
    }
   ],
   "source": [
    "model.summary()"
   ]
  },
  {
   "cell_type": "markdown",
   "id": "3facb8bd",
   "metadata": {},
   "source": [
    "This summary shows that the model has five layers:\n",
    "\n",
    "Conv2D: This layer performs convolutional operations on the input. It has 32 filters of size 3x3 and applies the\n",
    "ReLU activation function. The output shape is (None, 26, 26, 32), where None represents the batch size.\n",
    "\n",
    "MaxPooling2D: This layer performs max pooling, which reduces the spatial dimensions of the input.\n",
    "It uses a 2x2 pooling window. The output shape is (None, 13, 13, 32), as the pooling operation reduces each spatial\n",
    "dimension by a factor of 2.\n",
    "\n",
    "Conv2D: This layer is similar to the previous Conv2D layer but has 64 filters instead of 32.\n",
    "The output shape is (None, 11, 11, 64).\n",
    "\n",
    "Flatten: This layer flattens the previous output, converting it from a 4D tensor to a 2D tensor.\n",
    "The output shape is (None, 7744), where 7744 is the result of multiplying the spatial dimensions.\n",
    "\n",
    "Dense: This layer is a fully connected layer with 10 units and applies the ReLU activation function.\n",
    "It takes the flattened input and produces an output of shape (None, 10), where 10 represents the number of classes in\n",
    "the classification task."
   ]
  },
  {
   "cell_type": "markdown",
   "id": "549d587d",
   "metadata": {},
   "source": [
    "# PLOT NEURAL NETWORK MODEL"
   ]
  },
  {
   "cell_type": "code",
   "execution_count": 12,
   "id": "eca361a8",
   "metadata": {},
   "outputs": [],
   "source": [
    "#tf.keras.utils.plot_model(model, to_file='model.png', show_shapes=True, show_layer_names=True)\n",
    "#img = plt.imread('model.png')\n",
    "#plt.imshow(img)\n",
    "#plt.axis('off')\n",
    "#plt.show()"
   ]
  },
  {
   "cell_type": "markdown",
   "id": "05ada37e",
   "metadata": {},
   "source": [
    "# COMPILATION OF MODEL"
   ]
  },
  {
   "cell_type": "code",
   "execution_count": 13,
   "id": "905d25b1",
   "metadata": {},
   "outputs": [],
   "source": [
    "model.compile(optimizer='adam',\n",
    "              loss='categorical_crossentropy',\n",
    "              metrics=['accuracy'])"
   ]
  },
  {
   "cell_type": "markdown",
   "id": "ea8a7c20",
   "metadata": {},
   "source": [
    "# TRAIN THE MODEL"
   ]
  },
  {
   "cell_type": "code",
   "execution_count": 14,
   "id": "4ff2a978",
   "metadata": {},
   "outputs": [
    {
     "name": "stdout",
     "output_type": "stream",
     "text": [
      "Epoch 1/5\n",
      "1875/1875 [==============================] - 23s 12ms/step - loss: 0.5995 - accuracy: 0.8122 - val_loss: 0.3090 - val_accuracy: 0.9096\n",
      "Epoch 2/5\n",
      "1875/1875 [==============================] - 23s 12ms/step - loss: 0.2875 - accuracy: 0.9160 - val_loss: 0.2232 - val_accuracy: 0.9356\n",
      "Epoch 3/5\n",
      "1875/1875 [==============================] - 24s 13ms/step - loss: 0.1940 - accuracy: 0.9444 - val_loss: 0.1495 - val_accuracy: 0.9564\n",
      "Epoch 4/5\n",
      "1875/1875 [==============================] - 32s 17ms/step - loss: 0.1384 - accuracy: 0.9586 - val_loss: 0.1153 - val_accuracy: 0.9663\n",
      "Epoch 5/5\n",
      "1875/1875 [==============================] - 28s 15ms/step - loss: 0.1124 - accuracy: 0.9671 - val_loss: 0.0962 - val_accuracy: 0.9705\n"
     ]
    },
    {
     "data": {
      "text/plain": [
       "<keras.callbacks.History at 0x2399d6c3c70>"
      ]
     },
     "execution_count": 14,
     "metadata": {},
     "output_type": "execute_result"
    }
   ],
   "source": [
    "model.fit(x_train, y_train, epochs=5, validation_data=(x_test, y_test))"
   ]
  },
  {
   "cell_type": "markdown",
   "id": "b9864044",
   "metadata": {},
   "source": [
    "# ACCURACY TEST"
   ]
  },
  {
   "cell_type": "code",
   "execution_count": 15,
   "id": "e03a5339",
   "metadata": {},
   "outputs": [
    {
     "name": "stdout",
     "output_type": "stream",
     "text": [
      "313/313 [==============================] - 1s 4ms/step - loss: 0.0962 - accuracy: 0.9705\n",
      "Test accuracy: 0.9704999923706055\n"
     ]
    }
   ],
   "source": [
    "test_loss, test_acc = model.evaluate(x_test, y_test)\n",
    "print('Test accuracy:', test_acc)"
   ]
  },
  {
   "cell_type": "code",
   "execution_count": 16,
   "id": "e92ed43a",
   "metadata": {},
   "outputs": [
    {
     "data": {
      "image/png": "[encoded data removed]",
      "text/plain": [
       "<Figure size 432x288 with 1 Axes>"
      ]
     },
     "metadata": {
      "needs_background": "light"
     },
     "output_type": "display_data"
    }
   ],
   "source": [
    "img = x_train[60]\n",
    "plt.imshow(np.squeeze(img) ,cmap='gray')\n",
    "plt.show()"
   ]
  },
  {
   "cell_type": "markdown",
   "id": "d1e456f5",
   "metadata": {},
   "source": [
    "# RESULT AFTER PREDICTION"
   ]
  },
  {
   "cell_type": "code",
   "execution_count": 17,
   "id": "6a5d47e1",
   "metadata": {},
   "outputs": [
    {
     "name": "stdout",
     "output_type": "stream",
     "text": [
      "1/1 [==============================] - 0s 68ms/step\n",
      "Predicted class: 4\n"
     ]
    }
   ],
   "source": [
    "img= img.reshape(1, 28, 28, 1)\n",
    "a= model.predict([img])\n",
    "predicted_class = np.argmax(a)\n",
    "print(\"Predicted class: {}\".format(predicted_class))"
   ]
  }
 ],
 "metadata": {
  "kernelspec": {
   "display_name": "Python 3 (ipykernel)",
   "language": "python",
   "name": "python3"
  },
  "language_info": {
   "codemirror_mode": {
    "name": "ipython",
    "version": 3
   },
   "file_extension": ".py",
   "mimetype": "text/x-python",
   "name": "python",
   "nbconvert_exporter": "python",
   "pygments_lexer": "ipython3",
   "version": "3.9.12"
  }
 },
 "nbformat": 4,
 "nbformat_minor": 5
}
