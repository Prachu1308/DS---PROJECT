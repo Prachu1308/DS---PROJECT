{
 "cells": [
  {
   "cell_type": "markdown",
   "id": "31305e62",
   "metadata": {},
   "source": [
    "# TASK 2 GIVEN BY BHARAT INTERN INTERNSHIP"
   ]
  },
  {
   "cell_type": "markdown",
   "id": "a52a2f1b",
   "metadata": {},
   "source": [
    "STOCK PRIDICTION USING TCS STOCK DATASET BY (PRACHI GOTHWAL)"
   ]
  },
  {
   "cell_type": "markdown",
   "id": "dcee33e2",
   "metadata": {},
   "source": [
    "################################### IMPORTING LIBRARIES ######################################"
   ]
  },
  {
   "cell_type": "code",
   "execution_count": 1,
   "id": "96617d35",
   "metadata": {},
   "outputs": [],
   "source": [
    "#importing necessary libraries\n",
    "\n",
    "import pandas as pd\n",
    "import numpy as np\n",
    "import matplotlib.pyplot as plt\n",
    "import seaborn as sns\n",
    "import tensorflow as tf\n",
    "from tensorflow.keras.models import Sequential\n",
    "from tensorflow.keras.layers import Dense\n",
    "from tensorflow.keras.layers import LSTM"
   ]
  },
  {
   "cell_type": "markdown",
   "id": "9514bde5",
   "metadata": {},
   "source": [
    "DATASET FETCHING"
   ]
  },
  {
   "cell_type": "code",
   "execution_count": 2,
   "id": "44e73be0",
   "metadata": {},
   "outputs": [
    {
     "data": {
      "text/html": [
       "<div>\n",
       "<style scoped>\n",
       "    .dataframe tbody tr th:only-of-type {\n",
       "        vertical-align: middle;\n",
       "    }\n",
       "\n",
       "    .dataframe tbody tr th {\n",
       "        vertical-align: top;\n",
       "    }\n",
       "\n",
       "    .dataframe thead th {\n",
       "        text-align: right;\n",
       "    }\n",
       "</style>\n",
       "<table border=\"1\" class=\"dataframe\">\n",
       "  <thead>\n",
       "    <tr style=\"text-align: right;\">\n",
       "      <th></th>\n",
       "      <th>symbol</th>\n",
       "      <th>date</th>\n",
       "      <th>close</th>\n",
       "      <th>high</th>\n",
       "      <th>low</th>\n",
       "      <th>open</th>\n",
       "      <th>volume</th>\n",
       "      <th>adjClose</th>\n",
       "      <th>adjHigh</th>\n",
       "      <th>adjLow</th>\n",
       "      <th>adjOpen</th>\n",
       "      <th>adjVolume</th>\n",
       "      <th>divCash</th>\n",
       "      <th>splitFactor</th>\n",
       "    </tr>\n",
       "  </thead>\n",
       "  <tbody>\n",
       "    <tr>\n",
       "      <th>1252</th>\n",
       "      <td>TCS</td>\n",
       "      <td>2023-07-07 00:00:00+00:00</td>\n",
       "      <td>3.17</td>\n",
       "      <td>3.248</td>\n",
       "      <td>3.1400</td>\n",
       "      <td>3.16</td>\n",
       "      <td>173903</td>\n",
       "      <td>3.17</td>\n",
       "      <td>3.248</td>\n",
       "      <td>3.1400</td>\n",
       "      <td>3.16</td>\n",
       "      <td>173903</td>\n",
       "      <td>0.0</td>\n",
       "      <td>1.0</td>\n",
       "    </tr>\n",
       "    <tr>\n",
       "      <th>1253</th>\n",
       "      <td>TCS</td>\n",
       "      <td>2023-07-10 00:00:00+00:00</td>\n",
       "      <td>3.23</td>\n",
       "      <td>3.310</td>\n",
       "      <td>3.1500</td>\n",
       "      <td>3.15</td>\n",
       "      <td>243824</td>\n",
       "      <td>3.23</td>\n",
       "      <td>3.310</td>\n",
       "      <td>3.1500</td>\n",
       "      <td>3.15</td>\n",
       "      <td>243824</td>\n",
       "      <td>0.0</td>\n",
       "      <td>1.0</td>\n",
       "    </tr>\n",
       "    <tr>\n",
       "      <th>1254</th>\n",
       "      <td>TCS</td>\n",
       "      <td>2023-07-11 00:00:00+00:00</td>\n",
       "      <td>3.30</td>\n",
       "      <td>3.320</td>\n",
       "      <td>3.2100</td>\n",
       "      <td>3.24</td>\n",
       "      <td>326412</td>\n",
       "      <td>3.30</td>\n",
       "      <td>3.320</td>\n",
       "      <td>3.2100</td>\n",
       "      <td>3.24</td>\n",
       "      <td>326412</td>\n",
       "      <td>0.0</td>\n",
       "      <td>1.0</td>\n",
       "    </tr>\n",
       "    <tr>\n",
       "      <th>1255</th>\n",
       "      <td>TCS</td>\n",
       "      <td>2023-07-12 00:00:00+00:00</td>\n",
       "      <td>3.20</td>\n",
       "      <td>3.380</td>\n",
       "      <td>3.2000</td>\n",
       "      <td>3.35</td>\n",
       "      <td>350516</td>\n",
       "      <td>3.20</td>\n",
       "      <td>3.380</td>\n",
       "      <td>3.2000</td>\n",
       "      <td>3.35</td>\n",
       "      <td>350516</td>\n",
       "      <td>0.0</td>\n",
       "      <td>1.0</td>\n",
       "    </tr>\n",
       "    <tr>\n",
       "      <th>1256</th>\n",
       "      <td>TCS</td>\n",
       "      <td>2023-07-13 00:00:00+00:00</td>\n",
       "      <td>3.26</td>\n",
       "      <td>3.280</td>\n",
       "      <td>3.1415</td>\n",
       "      <td>3.23</td>\n",
       "      <td>371385</td>\n",
       "      <td>3.26</td>\n",
       "      <td>3.280</td>\n",
       "      <td>3.1415</td>\n",
       "      <td>3.23</td>\n",
       "      <td>371385</td>\n",
       "      <td>0.0</td>\n",
       "      <td>1.0</td>\n",
       "    </tr>\n",
       "  </tbody>\n",
       "</table>\n",
       "</div>"
      ],
      "text/plain": [
       "     symbol                       date  close   high     low  open  volume  \\\n",
       "1252    TCS  2023-07-07 00:00:00+00:00   3.17  3.248  3.1400  3.16  173903   \n",
       "1253    TCS  2023-07-10 00:00:00+00:00   3.23  3.310  3.1500  3.15  243824   \n",
       "1254    TCS  2023-07-11 00:00:00+00:00   3.30  3.320  3.2100  3.24  326412   \n",
       "1255    TCS  2023-07-12 00:00:00+00:00   3.20  3.380  3.2000  3.35  350516   \n",
       "1256    TCS  2023-07-13 00:00:00+00:00   3.26  3.280  3.1415  3.23  371385   \n",
       "\n",
       "      adjClose  adjHigh  adjLow  adjOpen  adjVolume  divCash  splitFactor  \n",
       "1252      3.17    3.248  3.1400     3.16     173903      0.0          1.0  \n",
       "1253      3.23    3.310  3.1500     3.15     243824      0.0          1.0  \n",
       "1254      3.30    3.320  3.2100     3.24     326412      0.0          1.0  \n",
       "1255      3.20    3.380  3.2000     3.35     350516      0.0          1.0  \n",
       "1256      3.26    3.280  3.1415     3.23     371385      0.0          1.0  "
      ]
     },
     "execution_count": 2,
     "metadata": {},
     "output_type": "execute_result"
    }
   ],
   "source": [
    "#importing the dataset\n",
    "\n",
    "df = pd.read_csv('C:\\\\Users\\\\Prachi Gothwal\\\\OneDrive\\\\Desktop\\\\tcsstockdata.csv')\n",
    "df.tail()"
   ]
  },
  {
   "cell_type": "code",
   "execution_count": 3,
   "id": "0f198e43",
   "metadata": {},
   "outputs": [
    {
     "data": {
      "text/plain": [
       "(1257,)"
      ]
     },
     "execution_count": 3,
     "metadata": {},
     "output_type": "execute_result"
    }
   ],
   "source": [
    "df1 = df.reset_index()['close']\n",
    "df1.shape"
   ]
  },
  {
   "cell_type": "code",
   "execution_count": 4,
   "id": "248eeff0",
   "metadata": {},
   "outputs": [
    {
     "data": {
      "text/plain": [
       "[<matplotlib.lines.Line2D at 0x28b606b0b20>]"
      ]
     },
     "execution_count": 4,
     "metadata": {},
     "output_type": "execute_result"
    },
    {
     "data": {
      "image/png": "[encoded data removed]",
      "text/plain": [
       "<Figure size 432x288 with 1 Axes>"
      ]
     },
     "metadata": {
      "needs_background": "light"
     },
     "output_type": "display_data"
    }
   ],
   "source": [
    "#displaying how the close values are distributed\n",
    "plt.plot(df['close'])"
   ]
  },
  {
   "cell_type": "code",
   "execution_count": 5,
   "id": "fec4e66b",
   "metadata": {},
   "outputs": [],
   "source": [
    "#scaling down the values between (0,1)\n",
    "\n",
    "from sklearn.preprocessing import MinMaxScaler\n",
    "scaler = MinMaxScaler(feature_range=(0,1))\n",
    "df1 = scaler.fit_transform(np.array(df1).reshape(-1,1))"
   ]
  },
  {
   "cell_type": "code",
   "execution_count": 6,
   "id": "539cf4d0",
   "metadata": {},
   "outputs": [
    {
     "name": "stdout",
     "output_type": "stream",
     "text": [
      "[[0.35523256]\n",
      " [0.3622093 ]\n",
      " [0.35232558]\n",
      " ...\n",
      " [0.07616279]\n",
      " [0.07034884]\n",
      " [0.07383721]]\n"
     ]
    }
   ],
   "source": [
    "#it has now transformed into an array containing values between 0 and 1\n",
    "print(df1)"
   ]
  },
  {
   "cell_type": "markdown",
   "id": "ee294bfb",
   "metadata": {},
   "source": [
    "# PREPROCESSING DATA"
   ]
  },
  {
   "cell_type": "code",
   "execution_count": 7,
   "id": "13a2385f",
   "metadata": {},
   "outputs": [],
   "source": [
    "train_len = int(len(df1)*0.65)        #65% of dataset is used as training dataset\n",
    "test_len = int(len(df1)-train_len)    #rest of dataset is used as testing dataset\n",
    "\n",
    "\n",
    "train_data = df1[0:train_len:]\n",
    "test_data = df1[train_len:len(df1):1]"
   ]
  },
  {
   "cell_type": "code",
   "execution_count": 8,
   "id": "54103f6f",
   "metadata": {},
   "outputs": [
    {
     "data": {
      "text/plain": [
       "(817, 440)"
      ]
     },
     "execution_count": 8,
     "metadata": {},
     "output_type": "execute_result"
    }
   ],
   "source": [
    "train_len,test_len"
   ]
  },
  {
   "cell_type": "code",
   "execution_count": 9,
   "id": "51a3321c",
   "metadata": {},
   "outputs": [
    {
     "data": {
      "text/plain": [
       "(817, 440)"
      ]
     },
     "execution_count": 9,
     "metadata": {},
     "output_type": "execute_result"
    }
   ],
   "source": [
    "len(train_data),len(test_data)"
   ]
  },
  {
   "cell_type": "code",
   "execution_count": 10,
   "id": "25bc7432",
   "metadata": {},
   "outputs": [],
   "source": [
    "#convert array of values into a dataset matrix\n",
    "def create_dataset(dataset,time_step = 1):\n",
    "    dataX,dataY = [],[]\n",
    "    for i in range(len(dataset)-time_step - 1):\n",
    "        a = dataset[i:(i+time_step),0]\n",
    "        dataX.append(a)\n",
    "        dataY.append(dataset[i + time_step, 0])\n",
    "    return np.array(dataX),np.array(dataY)"
   ]
  },
  {
   "cell_type": "code",
   "execution_count": 11,
   "id": "fc921adf",
   "metadata": {},
   "outputs": [],
   "source": [
    "time_step = 100\n",
    "x_train,y_train = create_dataset(train_data,time_step)\n",
    "x_test,y_test = create_dataset(test_data,time_step)"
   ]
  },
  {
   "cell_type": "code",
   "execution_count": 12,
   "id": "6ff48974",
   "metadata": {},
   "outputs": [
    {
     "name": "stdout",
     "output_type": "stream",
     "text": [
      "(716, 100)\n",
      "(716,)\n"
     ]
    },
    {
     "data": {
      "text/plain": [
       "(None, None)"
      ]
     },
     "execution_count": 12,
     "metadata": {},
     "output_type": "execute_result"
    }
   ],
   "source": [
    "print(x_train.shape),print(y_train.shape)"
   ]
  },
  {
   "cell_type": "code",
   "execution_count": 13,
   "id": "72adae2c",
   "metadata": {},
   "outputs": [
    {
     "name": "stdout",
     "output_type": "stream",
     "text": [
      "(339, 100)\n",
      "(339,)\n"
     ]
    },
    {
     "data": {
      "text/plain": [
       "(None, None)"
      ]
     },
     "execution_count": 13,
     "metadata": {},
     "output_type": "execute_result"
    }
   ],
   "source": [
    "print(x_test.shape),print(y_test.shape)"
   ]
  },
  {
   "cell_type": "markdown",
   "id": "f4b2876a",
   "metadata": {},
   "source": [
    "# CREATING LSTM MODEL"
   ]
  },
  {
   "cell_type": "code",
   "execution_count": 14,
   "id": "f2e4aed4",
   "metadata": {},
   "outputs": [],
   "source": [
    "#reshaping the x_train and x_test data into 3-Dimension\n",
    "\n",
    "#reshpae input to be [sample, time steps, features] which is required for LSTM\n",
    "\n",
    "x_train = x_train.reshape(x_train.shape[0],x_train.shape[1],1)    #The last '1' with comma makes it 3-D\n",
    "x_test = x_test.reshape(x_test.shape[0],x_test.shape[1],1)"
   ]
  },
  {
   "cell_type": "code",
   "execution_count": 15,
   "id": "24c018fe",
   "metadata": {},
   "outputs": [],
   "source": [
    "#Creating a stacked LSTM model\n",
    "\n",
    "model = Sequential()\n",
    "model.add(LSTM(50,return_sequences = True, input_shape = (100,1)))\n",
    "model.add(LSTM(50,return_sequences = True))\n",
    "model.add(LSTM(50))\n",
    "model.add(Dense(1))\n",
    "model.compile(loss = 'mean_squared_error', optimizer = 'adam')"
   ]
  },
  {
   "cell_type": "code",
   "execution_count": 16,
   "id": "acd9c865",
   "metadata": {},
   "outputs": [
    {
     "name": "stdout",
     "output_type": "stream",
     "text": [
      "Model: \"sequential\"\n",
      "_________________________________________________________________\n",
      " Layer (type)                Output Shape              Param #   \n",
      "=================================================================\n",
      " lstm (LSTM)                 (None, 100, 50)           10400     \n",
      "                                                                 \n",
      " lstm_1 (LSTM)               (None, 100, 50)           20200     \n",
      "                                                                 \n",
      " lstm_2 (LSTM)               (None, 50)                20200     \n",
      "                                                                 \n",
      " dense (Dense)               (None, 1)                 51        \n",
      "                                                                 \n",
      "=================================================================\n",
      "Total params: 50,851\n",
      "Trainable params: 50,851\n",
      "Non-trainable params: 0\n",
      "_________________________________________________________________\n"
     ]
    }
   ],
   "source": [
    "model.summary()"
   ]
  },
  {
   "cell_type": "code",
   "execution_count": 17,
   "id": "1013b9a2",
   "metadata": {},
   "outputs": [
    {
     "name": "stdout",
     "output_type": "stream",
     "text": [
      "Epoch 1/50\n",
      "12/12 [==============================] - 6s 199ms/step - loss: 0.0495 - val_loss: 0.0025\n",
      "Epoch 2/50\n",
      "12/12 [==============================] - 1s 125ms/step - loss: 0.0109 - val_loss: 0.0080\n",
      "Epoch 3/50\n",
      "12/12 [==============================] - 1s 124ms/step - loss: 0.0048 - val_loss: 8.5645e-04\n",
      "Epoch 4/50\n",
      "12/12 [==============================] - 1s 122ms/step - loss: 0.0031 - val_loss: 6.2843e-04\n",
      "Epoch 5/50\n",
      "12/12 [==============================] - 2s 133ms/step - loss: 0.0029 - val_loss: 6.6651e-04\n",
      "Epoch 6/50\n",
      "12/12 [==============================] - 2s 126ms/step - loss: 0.0027 - val_loss: 6.9529e-04\n",
      "Epoch 7/50\n",
      "12/12 [==============================] - 1s 123ms/step - loss: 0.0025 - val_loss: 8.1976e-04\n",
      "Epoch 8/50\n",
      "12/12 [==============================] - 1s 121ms/step - loss: 0.0023 - val_loss: 8.2459e-04\n",
      "Epoch 9/50\n",
      "12/12 [==============================] - 1s 120ms/step - loss: 0.0021 - val_loss: 7.9087e-04\n",
      "Epoch 10/50\n",
      "12/12 [==============================] - 1s 121ms/step - loss: 0.0020 - val_loss: 7.0546e-04\n",
      "Epoch 11/50\n",
      "12/12 [==============================] - 1s 121ms/step - loss: 0.0020 - val_loss: 8.9846e-04\n",
      "Epoch 12/50\n",
      "12/12 [==============================] - 1s 122ms/step - loss: 0.0022 - val_loss: 5.6324e-04\n",
      "Epoch 13/50\n",
      "12/12 [==============================] - 2s 131ms/step - loss: 0.0023 - val_loss: 5.5420e-04\n",
      "Epoch 14/50\n",
      "12/12 [==============================] - 2s 130ms/step - loss: 0.0020 - val_loss: 0.0011\n",
      "Epoch 15/50\n",
      "12/12 [==============================] - 2s 127ms/step - loss: 0.0025 - val_loss: 0.0011\n",
      "Epoch 16/50\n",
      "12/12 [==============================] - 2s 126ms/step - loss: 0.0021 - val_loss: 0.0012\n",
      "Epoch 17/50\n",
      "12/12 [==============================] - 2s 128ms/step - loss: 0.0022 - val_loss: 5.4296e-04\n",
      "Epoch 18/50\n",
      "12/12 [==============================] - 1s 123ms/step - loss: 0.0020 - val_loss: 5.4127e-04\n",
      "Epoch 19/50\n",
      "12/12 [==============================] - 2s 125ms/step - loss: 0.0020 - val_loss: 5.0778e-04\n",
      "Epoch 20/50\n",
      "12/12 [==============================] - 1s 124ms/step - loss: 0.0018 - val_loss: 6.5591e-04\n",
      "Epoch 21/50\n",
      "12/12 [==============================] - 1s 123ms/step - loss: 0.0020 - val_loss: 8.7979e-04\n",
      "Epoch 22/50\n",
      "12/12 [==============================] - 1s 123ms/step - loss: 0.0019 - val_loss: 5.4437e-04\n",
      "Epoch 23/50\n",
      "12/12 [==============================] - 2s 127ms/step - loss: 0.0022 - val_loss: 6.0976e-04\n",
      "Epoch 24/50\n",
      "12/12 [==============================] - 1s 124ms/step - loss: 0.0022 - val_loss: 4.9494e-04\n",
      "Epoch 25/50\n",
      "12/12 [==============================] - 2s 126ms/step - loss: 0.0018 - val_loss: 5.1431e-04\n",
      "Epoch 26/50\n",
      "12/12 [==============================] - 1s 125ms/step - loss: 0.0017 - val_loss: 5.9104e-04\n",
      "Epoch 27/50\n",
      "12/12 [==============================] - 1s 124ms/step - loss: 0.0017 - val_loss: 4.6412e-04\n",
      "Epoch 28/50\n",
      "12/12 [==============================] - 1s 125ms/step - loss: 0.0017 - val_loss: 5.2778e-04\n",
      "Epoch 29/50\n",
      "12/12 [==============================] - 1s 126ms/step - loss: 0.0017 - val_loss: 4.9342e-04\n",
      "Epoch 30/50\n",
      "12/12 [==============================] - 1s 125ms/step - loss: 0.0016 - val_loss: 6.1357e-04\n",
      "Epoch 31/50\n",
      "12/12 [==============================] - 1s 125ms/step - loss: 0.0016 - val_loss: 5.0318e-04\n",
      "Epoch 32/50\n",
      "12/12 [==============================] - 1s 123ms/step - loss: 0.0017 - val_loss: 4.4592e-04\n",
      "Epoch 33/50\n",
      "12/12 [==============================] - 1s 123ms/step - loss: 0.0017 - val_loss: 4.4819e-04\n",
      "Epoch 34/50\n",
      "12/12 [==============================] - 1s 125ms/step - loss: 0.0017 - val_loss: 5.5967e-04\n",
      "Epoch 35/50\n",
      "12/12 [==============================] - 1s 125ms/step - loss: 0.0015 - val_loss: 4.8089e-04\n",
      "Epoch 36/50\n",
      "12/12 [==============================] - 2s 130ms/step - loss: 0.0015 - val_loss: 5.0605e-04\n",
      "Epoch 37/50\n",
      "12/12 [==============================] - 2s 128ms/step - loss: 0.0015 - val_loss: 6.5390e-04\n",
      "Epoch 38/50\n",
      "12/12 [==============================] - 2s 128ms/step - loss: 0.0017 - val_loss: 5.4544e-04\n",
      "Epoch 39/50\n",
      "12/12 [==============================] - 2s 129ms/step - loss: 0.0015 - val_loss: 4.1931e-04\n",
      "Epoch 40/50\n",
      "12/12 [==============================] - 2s 126ms/step - loss: 0.0014 - val_loss: 5.0636e-04\n",
      "Epoch 41/50\n",
      "12/12 [==============================] - 2s 127ms/step - loss: 0.0014 - val_loss: 4.1143e-04\n",
      "Epoch 42/50\n",
      "12/12 [==============================] - 2s 128ms/step - loss: 0.0014 - val_loss: 4.6501e-04\n",
      "Epoch 43/50\n",
      "12/12 [==============================] - 2s 127ms/step - loss: 0.0016 - val_loss: 5.5399e-04\n",
      "Epoch 44/50\n",
      "12/12 [==============================] - 2s 127ms/step - loss: 0.0014 - val_loss: 4.1068e-04\n",
      "Epoch 45/50\n",
      "12/12 [==============================] - 2s 126ms/step - loss: 0.0014 - val_loss: 5.0579e-04\n",
      "Epoch 46/50\n",
      "12/12 [==============================] - 2s 126ms/step - loss: 0.0014 - val_loss: 4.6731e-04\n",
      "Epoch 47/50\n",
      "12/12 [==============================] - 2s 131ms/step - loss: 0.0014 - val_loss: 4.1213e-04\n",
      "Epoch 48/50\n",
      "12/12 [==============================] - 2s 126ms/step - loss: 0.0014 - val_loss: 5.8674e-04\n",
      "Epoch 49/50\n",
      "12/12 [==============================] - 1s 125ms/step - loss: 0.0014 - val_loss: 4.9716e-04\n",
      "Epoch 50/50\n",
      "12/12 [==============================] - 2s 127ms/step - loss: 0.0015 - val_loss: 4.6868e-04\n"
     ]
    },
    {
     "data": {
      "text/plain": [
       "<keras.callbacks.History at 0x28b63cba100>"
      ]
     },
     "execution_count": 17,
     "metadata": {},
     "output_type": "execute_result"
    }
   ],
   "source": [
    "model.fit(x_train,y_train, validation_data=(x_test,y_test),epochs=50, batch_size=64, verbose=1)"
   ]
  },
  {
   "cell_type": "code",
   "execution_count": 18,
   "id": "881e7dbe",
   "metadata": {},
   "outputs": [
    {
     "name": "stdout",
     "output_type": "stream",
     "text": [
      "23/23 [==============================] - 1s 23ms/step\n",
      "11/11 [==============================] - 0s 22ms/step\n"
     ]
    }
   ],
   "source": [
    "#predicting and checking performance metrics\n",
    "\n",
    "train_predict = model.predict(x_train)\n",
    "test_predict = model.predict(x_test)"
   ]
  },
  {
   "cell_type": "code",
   "execution_count": 19,
   "id": "5afb0e0a",
   "metadata": {},
   "outputs": [],
   "source": [
    "#transform back to original form\n",
    "#because the data we have scaled down needs to be get in original form\n",
    "\n",
    "train_predict = scaler.inverse_transform(train_predict)\n",
    "test_predict = scaler.inverse_transform(test_predict)"
   ]
  },
  {
   "cell_type": "code",
   "execution_count": 20,
   "id": "40481398",
   "metadata": {},
   "outputs": [],
   "source": [
    "import math\n",
    "from sklearn.metrics import mean_squared_error"
   ]
  },
  {
   "cell_type": "code",
   "execution_count": 21,
   "id": "178f6916",
   "metadata": {},
   "outputs": [
    {
     "data": {
      "text/plain": [
       "8.299801586128263"
      ]
     },
     "execution_count": 21,
     "metadata": {},
     "output_type": "execute_result"
    }
   ],
   "source": [
    "#calculate RMSE performance metrics for train data\n",
    "\n",
    "math.sqrt(mean_squared_error(y_train,train_predict))"
   ]
  },
  {
   "cell_type": "code",
   "execution_count": 22,
   "id": "13853eb9",
   "metadata": {},
   "outputs": [
    {
     "data": {
      "text/plain": [
       "5.651686576144489"
      ]
     },
     "execution_count": 22,
     "metadata": {},
     "output_type": "execute_result"
    }
   ],
   "source": [
    "#test data RMSE\n",
    "\n",
    "math.sqrt(mean_squared_error(y_test,test_predict))"
   ]
  },
  {
   "cell_type": "markdown",
   "id": "d35c5a24",
   "metadata": {},
   "source": [
    "# PRIDICTION PLOTING"
   ]
  },
  {
   "cell_type": "code",
   "execution_count": 23,
   "id": "cc508cdf",
   "metadata": {},
   "outputs": [],
   "source": [
    "#shift train prediction for plotting\n",
    "look_back = 100\n",
    "trainPredictPlot = np.empty_like(df1)\n",
    "trainPredictPlot[:,:] = np.nan\n",
    "trainPredictPlot[look_back:len(train_predict)+look_back, : ] = train_predict"
   ]
  },
  {
   "cell_type": "code",
   "execution_count": 24,
   "id": "67d6fe50",
   "metadata": {},
   "outputs": [],
   "source": [
    "#shift test predictions for plotting\n",
    "testPredictPlot = np.empty_like(df1)\n",
    "testPredictPlot[:,:] = np.nan\n",
    "testPredictPlot[len(train_predict)+(look_back*2)+1 : len(df1)-1, : ] = test_predict"
   ]
  },
  {
   "cell_type": "code",
   "execution_count": 25,
   "id": "5f666a36",
   "metadata": {},
   "outputs": [
    {
     "data": {
      "image/png": "[encoded data removed]",
      "text/plain": [
       "<Figure size 432x288 with 1 Axes>"
      ]
     },
     "metadata": {
      "needs_background": "light"
     },
     "output_type": "display_data"
    }
   ],
   "source": [
    "#plot baseline and predictions\n",
    "plt.plot(scaler.inverse_transform(df1))\n",
    "plt.plot(trainPredictPlot)\n",
    "plt.plot(testPredictPlot)\n",
    "plt.show()"
   ]
  },
  {
   "cell_type": "code",
   "execution_count": 26,
   "id": "afe224e3",
   "metadata": {},
   "outputs": [
    {
     "data": {
      "text/plain": [
       "440"
      ]
     },
     "execution_count": 26,
     "metadata": {},
     "output_type": "execute_result"
    }
   ],
   "source": [
    "len(test_data)"
   ]
  },
  {
   "cell_type": "code",
   "execution_count": 27,
   "id": "6d7418ec",
   "metadata": {},
   "outputs": [
    {
     "data": {
      "text/plain": [
       "340"
      ]
     },
     "execution_count": 27,
     "metadata": {},
     "output_type": "execute_result"
    }
   ],
   "source": [
    "#Last date of our data is 22/6. To predict for 23/6 we need to study previous 100 days data (assume)\n",
    "\n",
    "440-100"
   ]
  },
  {
   "cell_type": "code",
   "execution_count": 28,
   "id": "9b18a46e",
   "metadata": {},
   "outputs": [
    {
     "data": {
      "text/plain": [
       "(1, 100)"
      ]
     },
     "execution_count": 28,
     "metadata": {},
     "output_type": "execute_result"
    }
   ],
   "source": [
    "x_input = test_data[340:].reshape(1,-1)\n",
    "x_input.shape"
   ]
  },
  {
   "cell_type": "code",
   "execution_count": 29,
   "id": "ae64a941",
   "metadata": {},
   "outputs": [
    {
     "data": {
      "text/plain": [
       "[0.17267441860465116,\n",
       " 0.13895348837209304,\n",
       " 0.14186046511627903,\n",
       " 0.14418604651162786,\n",
       " 0.13604651162790699,\n",
       " 0.1377906976744186,\n",
       " 0.13720930232558137,\n",
       " 0.14186046511627903,\n",
       " 0.14302325581395348,\n",
       " 0.14476744186046514,\n",
       " 0.12906976744186044,\n",
       " 0.12558139534883722,\n",
       " 0.13023255813953488,\n",
       " 0.11802325581395344,\n",
       " 0.11279069767441859,\n",
       " 0.10290697674418602,\n",
       " 0.09127906976744184,\n",
       " 0.09302325581395347,\n",
       " 0.08779069767441859,\n",
       " 0.07732558139534883,\n",
       " 0.08546511627906976,\n",
       " 0.08662790697674418,\n",
       " 0.08081395348837207,\n",
       " 0.07906976744186046,\n",
       " 0.07848837209302324,\n",
       " 0.0767441860465116,\n",
       " 0.07325581395348836,\n",
       " 0.07558139534883719,\n",
       " 0.07558139534883719,\n",
       " 0.08372093023255812,\n",
       " 0.08430232558139535,\n",
       " 0.07732558139534883,\n",
       " 0.06976744186046512,\n",
       " 0.0691860465116279,\n",
       " 0.07732558139534883,\n",
       " 0.088953488372093,\n",
       " 0.07906976744186046,\n",
       " 0.07965116279069766,\n",
       " 0.07616279069767438,\n",
       " 0.0813953488372093,\n",
       " 0.0813953488372093,\n",
       " 0.0813953488372093,\n",
       " 0.07790697674418605,\n",
       " 0.07441860465116278,\n",
       " 0.08023255813953488,\n",
       " 0.06802325581395348,\n",
       " 0.06395348837209301,\n",
       " 0.06395348837209301,\n",
       " 0.06395348837209301,\n",
       " 0.058139534883720936,\n",
       " 0.055232558139534885,\n",
       " 0.05,\n",
       " 0.04709302325581392,\n",
       " 0.055813953488372106,\n",
       " 0.059302325581395324,\n",
       " 0.059302325581395324,\n",
       " 0.05232558139534883,\n",
       " 0.057558139534883715,\n",
       " 0.04941860465116278,\n",
       " 0.05,\n",
       " 0.04186046511627907,\n",
       " 0.033139534883720914,\n",
       " 0.030232558139534862,\n",
       " 0.014534883720930244,\n",
       " 0.013953488372093023,\n",
       " 0.024418604651162787,\n",
       " 0.023837209302325565,\n",
       " 0.016860465116279047,\n",
       " 0.02093023255813954,\n",
       " 0.02790697674418606,\n",
       " 0.02732558139534884,\n",
       " 0.028488372093023254,\n",
       " 0.04244186046511629,\n",
       " 0.047674418604651145,\n",
       " 0.05232558139534883,\n",
       " 0.06569767441860465,\n",
       " 0.08372093023255812,\n",
       " 0.06511627906976743,\n",
       " 0.059883720930232545,\n",
       " 0.06104651162790696,\n",
       " 0.05465116279069766,\n",
       " 0.06046511627906974,\n",
       " 0.05290697674418603,\n",
       " 0.05465116279069766,\n",
       " 0.048255813953488366,\n",
       " 0.05290697674418603,\n",
       " 0.05348837209302325,\n",
       " 0.06627906976744184,\n",
       " 0.06686046511627906,\n",
       " 0.059883720930232545,\n",
       " 0.06627906976744184,\n",
       " 0.06686046511627906,\n",
       " 0.07616279069767438,\n",
       " 0.06511627906976743,\n",
       " 0.06627906976744184,\n",
       " 0.06860465116279067,\n",
       " 0.07209302325581395,\n",
       " 0.07616279069767438,\n",
       " 0.07034883720930234,\n",
       " 0.07383720930232555]"
      ]
     },
     "execution_count": 29,
     "metadata": {},
     "output_type": "execute_result"
    }
   ],
   "source": [
    "temp_input = list(x_input)\n",
    "temp_input = temp_input[0].tolist()\n",
    "temp_input"
   ]
  },
  {
   "cell_type": "markdown",
   "id": "66779421",
   "metadata": {},
   "source": [
    "# PRIDICTION FOR NEXT 30 DAYS"
   ]
  },
  {
   "cell_type": "code",
   "execution_count": 30,
   "id": "102a1c33",
   "metadata": {},
   "outputs": [
    {
     "name": "stdout",
     "output_type": "stream",
     "text": [
      "[0.07705342]\n",
      "101\n",
      "1 day input [0.13895349 0.14186047 0.14418605 0.13604651 0.1377907  0.1372093\n",
      " 0.14186047 0.14302326 0.14476744 0.12906977 0.1255814  0.13023256\n",
      " 0.11802326 0.1127907  0.10290698 0.09127907 0.09302326 0.0877907\n",
      " 0.07732558 0.08546512 0.08662791 0.08081395 0.07906977 0.07848837\n",
      " 0.07674419 0.07325581 0.0755814  0.0755814  0.08372093 0.08430233\n",
      " 0.07732558 0.06976744 0.06918605 0.07732558 0.08895349 0.07906977\n",
      " 0.07965116 0.07616279 0.08139535 0.08139535 0.08139535 0.07790698\n",
      " 0.0744186  0.08023256 0.06802326 0.06395349 0.06395349 0.06395349\n",
      " 0.05813953 0.05523256 0.05       0.04709302 0.05581395 0.05930233\n",
      " 0.05930233 0.05232558 0.05755814 0.0494186  0.05       0.04186047\n",
      " 0.03313953 0.03023256 0.01453488 0.01395349 0.0244186  0.02383721\n",
      " 0.01686047 0.02093023 0.02790698 0.02732558 0.02848837 0.04244186\n",
      " 0.04767442 0.05232558 0.06569767 0.08372093 0.06511628 0.05988372\n",
      " 0.06104651 0.05465116 0.06046512 0.05290698 0.05465116 0.04825581\n",
      " 0.05290698 0.05348837 0.06627907 0.06686047 0.05988372 0.06627907\n",
      " 0.06686047 0.07616279 0.06511628 0.06627907 0.06860465 0.07209302\n",
      " 0.07616279 0.07034884 0.07383721 0.07705342]\n",
      "1 day output [[0.07818209]]\n",
      "2 day input [0.14186047 0.14418605 0.13604651 0.1377907  0.1372093  0.14186047\n",
      " 0.14302326 0.14476744 0.12906977 0.1255814  0.13023256 0.11802326\n",
      " 0.1127907  0.10290698 0.09127907 0.09302326 0.0877907  0.07732558\n",
      " 0.08546512 0.08662791 0.08081395 0.07906977 0.07848837 0.07674419\n",
      " 0.07325581 0.0755814  0.0755814  0.08372093 0.08430233 0.07732558\n",
      " 0.06976744 0.06918605 0.07732558 0.08895349 0.07906977 0.07965116\n",
      " 0.07616279 0.08139535 0.08139535 0.08139535 0.07790698 0.0744186\n",
      " 0.08023256 0.06802326 0.06395349 0.06395349 0.06395349 0.05813953\n",
      " 0.05523256 0.05       0.04709302 0.05581395 0.05930233 0.05930233\n",
      " 0.05232558 0.05755814 0.0494186  0.05       0.04186047 0.03313953\n",
      " 0.03023256 0.01453488 0.01395349 0.0244186  0.02383721 0.01686047\n",
      " 0.02093023 0.02790698 0.02732558 0.02848837 0.04244186 0.04767442\n",
      " 0.05232558 0.06569767 0.08372093 0.06511628 0.05988372 0.06104651\n",
      " 0.05465116 0.06046512 0.05290698 0.05465116 0.04825581 0.05290698\n",
      " 0.05348837 0.06627907 0.06686047 0.05988372 0.06627907 0.06686047\n",
      " 0.07616279 0.06511628 0.06627907 0.06860465 0.07209302 0.07616279\n",
      " 0.07034884 0.07383721 0.07705342 0.07818209]\n",
      "2 day output [[0.0793555]]\n",
      "3 day input [0.14418605 0.13604651 0.1377907  0.1372093  0.14186047 0.14302326\n",
      " 0.14476744 0.12906977 0.1255814  0.13023256 0.11802326 0.1127907\n",
      " 0.10290698 0.09127907 0.09302326 0.0877907  0.07732558 0.08546512\n",
      " 0.08662791 0.08081395 0.07906977 0.07848837 0.07674419 0.07325581\n",
      " 0.0755814  0.0755814  0.08372093 0.08430233 0.07732558 0.06976744\n",
      " 0.06918605 0.07732558 0.08895349 0.07906977 0.07965116 0.07616279\n",
      " 0.08139535 0.08139535 0.08139535 0.07790698 0.0744186  0.08023256\n",
      " 0.06802326 0.06395349 0.06395349 0.06395349 0.05813953 0.05523256\n",
      " 0.05       0.04709302 0.05581395 0.05930233 0.05930233 0.05232558\n",
      " 0.05755814 0.0494186  0.05       0.04186047 0.03313953 0.03023256\n",
      " 0.01453488 0.01395349 0.0244186  0.02383721 0.01686047 0.02093023\n",
      " 0.02790698 0.02732558 0.02848837 0.04244186 0.04767442 0.05232558\n",
      " 0.06569767 0.08372093 0.06511628 0.05988372 0.06104651 0.05465116\n",
      " 0.06046512 0.05290698 0.05465116 0.04825581 0.05290698 0.05348837\n",
      " 0.06627907 0.06686047 0.05988372 0.06627907 0.06686047 0.07616279\n",
      " 0.06511628 0.06627907 0.06860465 0.07209302 0.07616279 0.07034884\n",
      " 0.07383721 0.07705342 0.07818209 0.0793555 ]\n",
      "3 day output [[0.08058149]]\n",
      "4 day input [0.13604651 0.1377907  0.1372093  0.14186047 0.14302326 0.14476744\n",
      " 0.12906977 0.1255814  0.13023256 0.11802326 0.1127907  0.10290698\n",
      " 0.09127907 0.09302326 0.0877907  0.07732558 0.08546512 0.08662791\n",
      " 0.08081395 0.07906977 0.07848837 0.07674419 0.07325581 0.0755814\n",
      " 0.0755814  0.08372093 0.08430233 0.07732558 0.06976744 0.06918605\n",
      " 0.07732558 0.08895349 0.07906977 0.07965116 0.07616279 0.08139535\n",
      " 0.08139535 0.08139535 0.07790698 0.0744186  0.08023256 0.06802326\n",
      " 0.06395349 0.06395349 0.06395349 0.05813953 0.05523256 0.05\n",
      " 0.04709302 0.05581395 0.05930233 0.05930233 0.05232558 0.05755814\n",
      " 0.0494186  0.05       0.04186047 0.03313953 0.03023256 0.01453488\n",
      " 0.01395349 0.0244186  0.02383721 0.01686047 0.02093023 0.02790698\n",
      " 0.02732558 0.02848837 0.04244186 0.04767442 0.05232558 0.06569767\n",
      " 0.08372093 0.06511628 0.05988372 0.06104651 0.05465116 0.06046512\n",
      " 0.05290698 0.05465116 0.04825581 0.05290698 0.05348837 0.06627907\n",
      " 0.06686047 0.05988372 0.06627907 0.06686047 0.07616279 0.06511628\n",
      " 0.06627907 0.06860465 0.07209302 0.07616279 0.07034884 0.07383721\n",
      " 0.07705342 0.07818209 0.0793555  0.08058149]\n",
      "4 day output [[0.08185413]]\n",
      "5 day input [0.1377907  0.1372093  0.14186047 0.14302326 0.14476744 0.12906977\n",
      " 0.1255814  0.13023256 0.11802326 0.1127907  0.10290698 0.09127907\n",
      " 0.09302326 0.0877907  0.07732558 0.08546512 0.08662791 0.08081395\n",
      " 0.07906977 0.07848837 0.07674419 0.07325581 0.0755814  0.0755814\n",
      " 0.08372093 0.08430233 0.07732558 0.06976744 0.06918605 0.07732558\n",
      " 0.08895349 0.07906977 0.07965116 0.07616279 0.08139535 0.08139535\n",
      " 0.08139535 0.07790698 0.0744186  0.08023256 0.06802326 0.06395349\n",
      " 0.06395349 0.06395349 0.05813953 0.05523256 0.05       0.04709302\n",
      " 0.05581395 0.05930233 0.05930233 0.05232558 0.05755814 0.0494186\n",
      " 0.05       0.04186047 0.03313953 0.03023256 0.01453488 0.01395349\n",
      " 0.0244186  0.02383721 0.01686047 0.02093023 0.02790698 0.02732558\n",
      " 0.02848837 0.04244186 0.04767442 0.05232558 0.06569767 0.08372093\n",
      " 0.06511628 0.05988372 0.06104651 0.05465116 0.06046512 0.05290698\n",
      " 0.05465116 0.04825581 0.05290698 0.05348837 0.06627907 0.06686047\n",
      " 0.05988372 0.06627907 0.06686047 0.07616279 0.06511628 0.06627907\n",
      " 0.06860465 0.07209302 0.07616279 0.07034884 0.07383721 0.07705342\n",
      " 0.07818209 0.0793555  0.08058149 0.08185413]\n",
      "5 day output [[0.08316256]]\n",
      "6 day input [0.1372093  0.14186047 0.14302326 0.14476744 0.12906977 0.1255814\n",
      " 0.13023256 0.11802326 0.1127907  0.10290698 0.09127907 0.09302326\n",
      " 0.0877907  0.07732558 0.08546512 0.08662791 0.08081395 0.07906977\n",
      " 0.07848837 0.07674419 0.07325581 0.0755814  0.0755814  0.08372093\n",
      " 0.08430233 0.07732558 0.06976744 0.06918605 0.07732558 0.08895349\n",
      " 0.07906977 0.07965116 0.07616279 0.08139535 0.08139535 0.08139535\n",
      " 0.07790698 0.0744186  0.08023256 0.06802326 0.06395349 0.06395349\n",
      " 0.06395349 0.05813953 0.05523256 0.05       0.04709302 0.05581395\n",
      " 0.05930233 0.05930233 0.05232558 0.05755814 0.0494186  0.05\n",
      " 0.04186047 0.03313953 0.03023256 0.01453488 0.01395349 0.0244186\n",
      " 0.02383721 0.01686047 0.02093023 0.02790698 0.02732558 0.02848837\n",
      " 0.04244186 0.04767442 0.05232558 0.06569767 0.08372093 0.06511628\n",
      " 0.05988372 0.06104651 0.05465116 0.06046512 0.05290698 0.05465116\n",
      " 0.04825581 0.05290698 0.05348837 0.06627907 0.06686047 0.05988372\n",
      " 0.06627907 0.06686047 0.07616279 0.06511628 0.06627907 0.06860465\n",
      " 0.07209302 0.07616279 0.07034884 0.07383721 0.07705342 0.07818209\n",
      " 0.0793555  0.08058149 0.08185413 0.08316256]\n",
      "6 day output [[0.0844958]]\n",
      "7 day input [0.14186047 0.14302326 0.14476744 0.12906977 0.1255814  0.13023256\n",
      " 0.11802326 0.1127907  0.10290698 0.09127907 0.09302326 0.0877907\n",
      " 0.07732558 0.08546512 0.08662791 0.08081395 0.07906977 0.07848837\n",
      " 0.07674419 0.07325581 0.0755814  0.0755814  0.08372093 0.08430233\n",
      " 0.07732558 0.06976744 0.06918605 0.07732558 0.08895349 0.07906977\n",
      " 0.07965116 0.07616279 0.08139535 0.08139535 0.08139535 0.07790698\n",
      " 0.0744186  0.08023256 0.06802326 0.06395349 0.06395349 0.06395349\n",
      " 0.05813953 0.05523256 0.05       0.04709302 0.05581395 0.05930233\n",
      " 0.05930233 0.05232558 0.05755814 0.0494186  0.05       0.04186047\n",
      " 0.03313953 0.03023256 0.01453488 0.01395349 0.0244186  0.02383721\n",
      " 0.01686047 0.02093023 0.02790698 0.02732558 0.02848837 0.04244186\n",
      " 0.04767442 0.05232558 0.06569767 0.08372093 0.06511628 0.05988372\n",
      " 0.06104651 0.05465116 0.06046512 0.05290698 0.05465116 0.04825581\n",
      " 0.05290698 0.05348837 0.06627907 0.06686047 0.05988372 0.06627907\n",
      " 0.06686047 0.07616279 0.06511628 0.06627907 0.06860465 0.07209302\n",
      " 0.07616279 0.07034884 0.07383721 0.07705342 0.07818209 0.0793555\n",
      " 0.08058149 0.08185413 0.08316256 0.0844958 ]\n",
      "7 day output [[0.08584476]]\n",
      "8 day input [0.14302326 0.14476744 0.12906977 0.1255814  0.13023256 0.11802326\n",
      " 0.1127907  0.10290698 0.09127907 0.09302326 0.0877907  0.07732558\n",
      " 0.08546512 0.08662791 0.08081395 0.07906977 0.07848837 0.07674419\n",
      " 0.07325581 0.0755814  0.0755814  0.08372093 0.08430233 0.07732558\n",
      " 0.06976744 0.06918605 0.07732558 0.08895349 0.07906977 0.07965116\n",
      " 0.07616279 0.08139535 0.08139535 0.08139535 0.07790698 0.0744186\n",
      " 0.08023256 0.06802326 0.06395349 0.06395349 0.06395349 0.05813953\n",
      " 0.05523256 0.05       0.04709302 0.05581395 0.05930233 0.05930233\n",
      " 0.05232558 0.05755814 0.0494186  0.05       0.04186047 0.03313953\n",
      " 0.03023256 0.01453488 0.01395349 0.0244186  0.02383721 0.01686047\n",
      " 0.02093023 0.02790698 0.02732558 0.02848837 0.04244186 0.04767442\n",
      " 0.05232558 0.06569767 0.08372093 0.06511628 0.05988372 0.06104651\n",
      " 0.05465116 0.06046512 0.05290698 0.05465116 0.04825581 0.05290698\n",
      " 0.05348837 0.06627907 0.06686047 0.05988372 0.06627907 0.06686047\n",
      " 0.07616279 0.06511628 0.06627907 0.06860465 0.07209302 0.07616279\n",
      " 0.07034884 0.07383721 0.07705342 0.07818209 0.0793555  0.08058149\n",
      " 0.08185413 0.08316256 0.0844958  0.08584476]\n",
      "8 day output [[0.08720282]]\n",
      "9 day input [0.14476744 0.12906977 0.1255814  0.13023256 0.11802326 0.1127907\n",
      " 0.10290698 0.09127907 0.09302326 0.0877907  0.07732558 0.08546512\n",
      " 0.08662791 0.08081395 0.07906977 0.07848837 0.07674419 0.07325581\n",
      " 0.0755814  0.0755814  0.08372093 0.08430233 0.07732558 0.06976744\n",
      " 0.06918605 0.07732558 0.08895349 0.07906977 0.07965116 0.07616279\n",
      " 0.08139535 0.08139535 0.08139535 0.07790698 0.0744186  0.08023256\n",
      " 0.06802326 0.06395349 0.06395349 0.06395349 0.05813953 0.05523256\n",
      " 0.05       0.04709302 0.05581395 0.05930233 0.05930233 0.05232558\n",
      " 0.05755814 0.0494186  0.05       0.04186047 0.03313953 0.03023256\n",
      " 0.01453488 0.01395349 0.0244186  0.02383721 0.01686047 0.02093023\n",
      " 0.02790698 0.02732558 0.02848837 0.04244186 0.04767442 0.05232558\n",
      " 0.06569767 0.08372093 0.06511628 0.05988372 0.06104651 0.05465116\n",
      " 0.06046512 0.05290698 0.05465116 0.04825581 0.05290698 0.05348837\n",
      " 0.06627907 0.06686047 0.05988372 0.06627907 0.06686047 0.07616279\n",
      " 0.06511628 0.06627907 0.06860465 0.07209302 0.07616279 0.07034884\n",
      " 0.07383721 0.07705342 0.07818209 0.0793555  0.08058149 0.08185413\n",
      " 0.08316256 0.0844958  0.08584476 0.08720282]\n",
      "9 day output [[0.08856548]]\n",
      "10 day input [0.12906977 0.1255814  0.13023256 0.11802326 0.1127907  0.10290698\n",
      " 0.09127907 0.09302326 0.0877907  0.07732558 0.08546512 0.08662791\n",
      " 0.08081395 0.07906977 0.07848837 0.07674419 0.07325581 0.0755814\n",
      " 0.0755814  0.08372093 0.08430233 0.07732558 0.06976744 0.06918605\n",
      " 0.07732558 0.08895349 0.07906977 0.07965116 0.07616279 0.08139535\n",
      " 0.08139535 0.08139535 0.07790698 0.0744186  0.08023256 0.06802326\n",
      " 0.06395349 0.06395349 0.06395349 0.05813953 0.05523256 0.05\n",
      " 0.04709302 0.05581395 0.05930233 0.05930233 0.05232558 0.05755814\n",
      " 0.0494186  0.05       0.04186047 0.03313953 0.03023256 0.01453488\n",
      " 0.01395349 0.0244186  0.02383721 0.01686047 0.02093023 0.02790698\n",
      " 0.02732558 0.02848837 0.04244186 0.04767442 0.05232558 0.06569767\n",
      " 0.08372093 0.06511628 0.05988372 0.06104651 0.05465116 0.06046512\n",
      " 0.05290698 0.05465116 0.04825581 0.05290698 0.05348837 0.06627907\n",
      " 0.06686047 0.05988372 0.06627907 0.06686047 0.07616279 0.06511628\n",
      " 0.06627907 0.06860465 0.07209302 0.07616279 0.07034884 0.07383721\n",
      " 0.07705342 0.07818209 0.0793555  0.08058149 0.08185413 0.08316256\n",
      " 0.0844958  0.08584476 0.08720282 0.08856548]\n",
      "10 day output [[0.08992992]]\n",
      "11 day input [0.1255814  0.13023256 0.11802326 0.1127907  0.10290698 0.09127907\n",
      " 0.09302326 0.0877907  0.07732558 0.08546512 0.08662791 0.08081395\n",
      " 0.07906977 0.07848837 0.07674419 0.07325581 0.0755814  0.0755814\n",
      " 0.08372093 0.08430233 0.07732558 0.06976744 0.06918605 0.07732558\n",
      " 0.08895349 0.07906977 0.07965116 0.07616279 0.08139535 0.08139535\n",
      " 0.08139535 0.07790698 0.0744186  0.08023256 0.06802326 0.06395349\n",
      " 0.06395349 0.06395349 0.05813953 0.05523256 0.05       0.04709302\n",
      " 0.05581395 0.05930233 0.05930233 0.05232558 0.05755814 0.0494186\n",
      " 0.05       0.04186047 0.03313953 0.03023256 0.01453488 0.01395349\n",
      " 0.0244186  0.02383721 0.01686047 0.02093023 0.02790698 0.02732558\n",
      " 0.02848837 0.04244186 0.04767442 0.05232558 0.06569767 0.08372093\n",
      " 0.06511628 0.05988372 0.06104651 0.05465116 0.06046512 0.05290698\n",
      " 0.05465116 0.04825581 0.05290698 0.05348837 0.06627907 0.06686047\n",
      " 0.05988372 0.06627907 0.06686047 0.07616279 0.06511628 0.06627907\n",
      " 0.06860465 0.07209302 0.07616279 0.07034884 0.07383721 0.07705342\n",
      " 0.07818209 0.0793555  0.08058149 0.08185413 0.08316256 0.0844958\n",
      " 0.08584476 0.08720282 0.08856548 0.08992992]\n",
      "11 day output [[0.0912945]]\n",
      "12 day input [0.13023256 0.11802326 0.1127907  0.10290698 0.09127907 0.09302326\n",
      " 0.0877907  0.07732558 0.08546512 0.08662791 0.08081395 0.07906977\n",
      " 0.07848837 0.07674419 0.07325581 0.0755814  0.0755814  0.08372093\n",
      " 0.08430233 0.07732558 0.06976744 0.06918605 0.07732558 0.08895349\n",
      " 0.07906977 0.07965116 0.07616279 0.08139535 0.08139535 0.08139535\n",
      " 0.07790698 0.0744186  0.08023256 0.06802326 0.06395349 0.06395349\n",
      " 0.06395349 0.05813953 0.05523256 0.05       0.04709302 0.05581395\n",
      " 0.05930233 0.05930233 0.05232558 0.05755814 0.0494186  0.05\n",
      " 0.04186047 0.03313953 0.03023256 0.01453488 0.01395349 0.0244186\n",
      " 0.02383721 0.01686047 0.02093023 0.02790698 0.02732558 0.02848837\n",
      " 0.04244186 0.04767442 0.05232558 0.06569767 0.08372093 0.06511628\n",
      " 0.05988372 0.06104651 0.05465116 0.06046512 0.05290698 0.05465116\n",
      " 0.04825581 0.05290698 0.05348837 0.06627907 0.06686047 0.05988372\n",
      " 0.06627907 0.06686047 0.07616279 0.06511628 0.06627907 0.06860465\n",
      " 0.07209302 0.07616279 0.07034884 0.07383721 0.07705342 0.07818209\n",
      " 0.0793555  0.08058149 0.08185413 0.08316256 0.0844958  0.08584476\n",
      " 0.08720282 0.08856548 0.08992992 0.0912945 ]\n",
      "12 day output [[0.09265826]]\n",
      "13 day input [0.11802326 0.1127907  0.10290698 0.09127907 0.09302326 0.0877907\n",
      " 0.07732558 0.08546512 0.08662791 0.08081395 0.07906977 0.07848837\n",
      " 0.07674419 0.07325581 0.0755814  0.0755814  0.08372093 0.08430233\n",
      " 0.07732558 0.06976744 0.06918605 0.07732558 0.08895349 0.07906977\n",
      " 0.07965116 0.07616279 0.08139535 0.08139535 0.08139535 0.07790698\n",
      " 0.0744186  0.08023256 0.06802326 0.06395349 0.06395349 0.06395349\n",
      " 0.05813953 0.05523256 0.05       0.04709302 0.05581395 0.05930233\n",
      " 0.05930233 0.05232558 0.05755814 0.0494186  0.05       0.04186047\n",
      " 0.03313953 0.03023256 0.01453488 0.01395349 0.0244186  0.02383721\n",
      " 0.01686047 0.02093023 0.02790698 0.02732558 0.02848837 0.04244186\n",
      " 0.04767442 0.05232558 0.06569767 0.08372093 0.06511628 0.05988372\n",
      " 0.06104651 0.05465116 0.06046512 0.05290698 0.05465116 0.04825581\n",
      " 0.05290698 0.05348837 0.06627907 0.06686047 0.05988372 0.06627907\n",
      " 0.06686047 0.07616279 0.06511628 0.06627907 0.06860465 0.07209302\n",
      " 0.07616279 0.07034884 0.07383721 0.07705342 0.07818209 0.0793555\n",
      " 0.08058149 0.08185413 0.08316256 0.0844958  0.08584476 0.08720282\n",
      " 0.08856548 0.08992992 0.0912945  0.09265826]\n",
      "13 day output [[0.0940207]]\n",
      "14 day input [0.1127907  0.10290698 0.09127907 0.09302326 0.0877907  0.07732558\n",
      " 0.08546512 0.08662791 0.08081395 0.07906977 0.07848837 0.07674419\n",
      " 0.07325581 0.0755814  0.0755814  0.08372093 0.08430233 0.07732558\n",
      " 0.06976744 0.06918605 0.07732558 0.08895349 0.07906977 0.07965116\n",
      " 0.07616279 0.08139535 0.08139535 0.08139535 0.07790698 0.0744186\n",
      " 0.08023256 0.06802326 0.06395349 0.06395349 0.06395349 0.05813953\n",
      " 0.05523256 0.05       0.04709302 0.05581395 0.05930233 0.05930233\n",
      " 0.05232558 0.05755814 0.0494186  0.05       0.04186047 0.03313953\n",
      " 0.03023256 0.01453488 0.01395349 0.0244186  0.02383721 0.01686047\n",
      " 0.02093023 0.02790698 0.02732558 0.02848837 0.04244186 0.04767442\n",
      " 0.05232558 0.06569767 0.08372093 0.06511628 0.05988372 0.06104651\n",
      " 0.05465116 0.06046512 0.05290698 0.05465116 0.04825581 0.05290698\n",
      " 0.05348837 0.06627907 0.06686047 0.05988372 0.06627907 0.06686047\n",
      " 0.07616279 0.06511628 0.06627907 0.06860465 0.07209302 0.07616279\n",
      " 0.07034884 0.07383721 0.07705342 0.07818209 0.0793555  0.08058149\n",
      " 0.08185413 0.08316256 0.0844958  0.08584476 0.08720282 0.08856548\n",
      " 0.08992992 0.0912945  0.09265826 0.0940207 ]\n",
      "14 day output [[0.09538149]]\n",
      "15 day input [0.10290698 0.09127907 0.09302326 0.0877907  0.07732558 0.08546512\n",
      " 0.08662791 0.08081395 0.07906977 0.07848837 0.07674419 0.07325581\n",
      " 0.0755814  0.0755814  0.08372093 0.08430233 0.07732558 0.06976744\n",
      " 0.06918605 0.07732558 0.08895349 0.07906977 0.07965116 0.07616279\n",
      " 0.08139535 0.08139535 0.08139535 0.07790698 0.0744186  0.08023256\n",
      " 0.06802326 0.06395349 0.06395349 0.06395349 0.05813953 0.05523256\n",
      " 0.05       0.04709302 0.05581395 0.05930233 0.05930233 0.05232558\n",
      " 0.05755814 0.0494186  0.05       0.04186047 0.03313953 0.03023256\n",
      " 0.01453488 0.01395349 0.0244186  0.02383721 0.01686047 0.02093023\n",
      " 0.02790698 0.02732558 0.02848837 0.04244186 0.04767442 0.05232558\n",
      " 0.06569767 0.08372093 0.06511628 0.05988372 0.06104651 0.05465116\n",
      " 0.06046512 0.05290698 0.05465116 0.04825581 0.05290698 0.05348837\n",
      " 0.06627907 0.06686047 0.05988372 0.06627907 0.06686047 0.07616279\n",
      " 0.06511628 0.06627907 0.06860465 0.07209302 0.07616279 0.07034884\n",
      " 0.07383721 0.07705342 0.07818209 0.0793555  0.08058149 0.08185413\n",
      " 0.08316256 0.0844958  0.08584476 0.08720282 0.08856548 0.08992992\n",
      " 0.0912945  0.09265826 0.0940207  0.09538149]\n",
      "15 day output [[0.09674044]]\n",
      "16 day input [0.09127907 0.09302326 0.0877907  0.07732558 0.08546512 0.08662791\n",
      " 0.08081395 0.07906977 0.07848837 0.07674419 0.07325581 0.0755814\n",
      " 0.0755814  0.08372093 0.08430233 0.07732558 0.06976744 0.06918605\n",
      " 0.07732558 0.08895349 0.07906977 0.07965116 0.07616279 0.08139535\n",
      " 0.08139535 0.08139535 0.07790698 0.0744186  0.08023256 0.06802326\n",
      " 0.06395349 0.06395349 0.06395349 0.05813953 0.05523256 0.05\n",
      " 0.04709302 0.05581395 0.05930233 0.05930233 0.05232558 0.05755814\n",
      " 0.0494186  0.05       0.04186047 0.03313953 0.03023256 0.01453488\n",
      " 0.01395349 0.0244186  0.02383721 0.01686047 0.02093023 0.02790698\n",
      " 0.02732558 0.02848837 0.04244186 0.04767442 0.05232558 0.06569767\n",
      " 0.08372093 0.06511628 0.05988372 0.06104651 0.05465116 0.06046512\n",
      " 0.05290698 0.05465116 0.04825581 0.05290698 0.05348837 0.06627907\n",
      " 0.06686047 0.05988372 0.06627907 0.06686047 0.07616279 0.06511628\n",
      " 0.06627907 0.06860465 0.07209302 0.07616279 0.07034884 0.07383721\n",
      " 0.07705342 0.07818209 0.0793555  0.08058149 0.08185413 0.08316256\n",
      " 0.0844958  0.08584476 0.08720282 0.08856548 0.08992992 0.0912945\n",
      " 0.09265826 0.0940207  0.09538149 0.09674044]\n",
      "16 day output [[0.09809735]]\n",
      "17 day input [0.09302326 0.0877907  0.07732558 0.08546512 0.08662791 0.08081395\n",
      " 0.07906977 0.07848837 0.07674419 0.07325581 0.0755814  0.0755814\n",
      " 0.08372093 0.08430233 0.07732558 0.06976744 0.06918605 0.07732558\n",
      " 0.08895349 0.07906977 0.07965116 0.07616279 0.08139535 0.08139535\n",
      " 0.08139535 0.07790698 0.0744186  0.08023256 0.06802326 0.06395349\n",
      " 0.06395349 0.06395349 0.05813953 0.05523256 0.05       0.04709302\n",
      " 0.05581395 0.05930233 0.05930233 0.05232558 0.05755814 0.0494186\n",
      " 0.05       0.04186047 0.03313953 0.03023256 0.01453488 0.01395349\n",
      " 0.0244186  0.02383721 0.01686047 0.02093023 0.02790698 0.02732558\n",
      " 0.02848837 0.04244186 0.04767442 0.05232558 0.06569767 0.08372093\n",
      " 0.06511628 0.05988372 0.06104651 0.05465116 0.06046512 0.05290698\n",
      " 0.05465116 0.04825581 0.05290698 0.05348837 0.06627907 0.06686047\n",
      " 0.05988372 0.06627907 0.06686047 0.07616279 0.06511628 0.06627907\n",
      " 0.06860465 0.07209302 0.07616279 0.07034884 0.07383721 0.07705342\n",
      " 0.07818209 0.0793555  0.08058149 0.08185413 0.08316256 0.0844958\n",
      " 0.08584476 0.08720282 0.08856548 0.08992992 0.0912945  0.09265826\n",
      " 0.0940207  0.09538149 0.09674044 0.09809735]\n",
      "17 day output [[0.09945214]]\n",
      "18 day input [0.0877907  0.07732558 0.08546512 0.08662791 0.08081395 0.07906977\n",
      " 0.07848837 0.07674419 0.07325581 0.0755814  0.0755814  0.08372093\n",
      " 0.08430233 0.07732558 0.06976744 0.06918605 0.07732558 0.08895349\n",
      " 0.07906977 0.07965116 0.07616279 0.08139535 0.08139535 0.08139535\n",
      " 0.07790698 0.0744186  0.08023256 0.06802326 0.06395349 0.06395349\n",
      " 0.06395349 0.05813953 0.05523256 0.05       0.04709302 0.05581395\n",
      " 0.05930233 0.05930233 0.05232558 0.05755814 0.0494186  0.05\n",
      " 0.04186047 0.03313953 0.03023256 0.01453488 0.01395349 0.0244186\n",
      " 0.02383721 0.01686047 0.02093023 0.02790698 0.02732558 0.02848837\n",
      " 0.04244186 0.04767442 0.05232558 0.06569767 0.08372093 0.06511628\n",
      " 0.05988372 0.06104651 0.05465116 0.06046512 0.05290698 0.05465116\n",
      " 0.04825581 0.05290698 0.05348837 0.06627907 0.06686047 0.05988372\n",
      " 0.06627907 0.06686047 0.07616279 0.06511628 0.06627907 0.06860465\n",
      " 0.07209302 0.07616279 0.07034884 0.07383721 0.07705342 0.07818209\n",
      " 0.0793555  0.08058149 0.08185413 0.08316256 0.0844958  0.08584476\n",
      " 0.08720282 0.08856548 0.08992992 0.0912945  0.09265826 0.0940207\n",
      " 0.09538149 0.09674044 0.09809735 0.09945214]\n",
      "18 day output [[0.10080462]]\n",
      "19 day input [0.07732558 0.08546512 0.08662791 0.08081395 0.07906977 0.07848837\n",
      " 0.07674419 0.07325581 0.0755814  0.0755814  0.08372093 0.08430233\n",
      " 0.07732558 0.06976744 0.06918605 0.07732558 0.08895349 0.07906977\n",
      " 0.07965116 0.07616279 0.08139535 0.08139535 0.08139535 0.07790698\n",
      " 0.0744186  0.08023256 0.06802326 0.06395349 0.06395349 0.06395349\n",
      " 0.05813953 0.05523256 0.05       0.04709302 0.05581395 0.05930233\n",
      " 0.05930233 0.05232558 0.05755814 0.0494186  0.05       0.04186047\n",
      " 0.03313953 0.03023256 0.01453488 0.01395349 0.0244186  0.02383721\n",
      " 0.01686047 0.02093023 0.02790698 0.02732558 0.02848837 0.04244186\n",
      " 0.04767442 0.05232558 0.06569767 0.08372093 0.06511628 0.05988372\n",
      " 0.06104651 0.05465116 0.06046512 0.05290698 0.05465116 0.04825581\n",
      " 0.05290698 0.05348837 0.06627907 0.06686047 0.05988372 0.06627907\n",
      " 0.06686047 0.07616279 0.06511628 0.06627907 0.06860465 0.07209302\n",
      " 0.07616279 0.07034884 0.07383721 0.07705342 0.07818209 0.0793555\n",
      " 0.08058149 0.08185413 0.08316256 0.0844958  0.08584476 0.08720282\n",
      " 0.08856548 0.08992992 0.0912945  0.09265826 0.0940207  0.09538149\n",
      " 0.09674044 0.09809735 0.09945214 0.10080462]\n",
      "19 day output [[0.10215469]]\n",
      "20 day input [0.08546512 0.08662791 0.08081395 0.07906977 0.07848837 0.07674419\n",
      " 0.07325581 0.0755814  0.0755814  0.08372093 0.08430233 0.07732558\n",
      " 0.06976744 0.06918605 0.07732558 0.08895349 0.07906977 0.07965116\n",
      " 0.07616279 0.08139535 0.08139535 0.08139535 0.07790698 0.0744186\n",
      " 0.08023256 0.06802326 0.06395349 0.06395349 0.06395349 0.05813953\n",
      " 0.05523256 0.05       0.04709302 0.05581395 0.05930233 0.05930233\n",
      " 0.05232558 0.05755814 0.0494186  0.05       0.04186047 0.03313953\n",
      " 0.03023256 0.01453488 0.01395349 0.0244186  0.02383721 0.01686047\n",
      " 0.02093023 0.02790698 0.02732558 0.02848837 0.04244186 0.04767442\n",
      " 0.05232558 0.06569767 0.08372093 0.06511628 0.05988372 0.06104651\n",
      " 0.05465116 0.06046512 0.05290698 0.05465116 0.04825581 0.05290698\n",
      " 0.05348837 0.06627907 0.06686047 0.05988372 0.06627907 0.06686047\n",
      " 0.07616279 0.06511628 0.06627907 0.06860465 0.07209302 0.07616279\n",
      " 0.07034884 0.07383721 0.07705342 0.07818209 0.0793555  0.08058149\n",
      " 0.08185413 0.08316256 0.0844958  0.08584476 0.08720282 0.08856548\n",
      " 0.08992992 0.0912945  0.09265826 0.0940207  0.09538149 0.09674044\n",
      " 0.09809735 0.09945214 0.10080462 0.10215469]\n",
      "20 day output [[0.10350221]]\n",
      "21 day input [0.08662791 0.08081395 0.07906977 0.07848837 0.07674419 0.07325581\n",
      " 0.0755814  0.0755814  0.08372093 0.08430233 0.07732558 0.06976744\n",
      " 0.06918605 0.07732558 0.08895349 0.07906977 0.07965116 0.07616279\n",
      " 0.08139535 0.08139535 0.08139535 0.07790698 0.0744186  0.08023256\n",
      " 0.06802326 0.06395349 0.06395349 0.06395349 0.05813953 0.05523256\n",
      " 0.05       0.04709302 0.05581395 0.05930233 0.05930233 0.05232558\n",
      " 0.05755814 0.0494186  0.05       0.04186047 0.03313953 0.03023256\n",
      " 0.01453488 0.01395349 0.0244186  0.02383721 0.01686047 0.02093023\n",
      " 0.02790698 0.02732558 0.02848837 0.04244186 0.04767442 0.05232558\n",
      " 0.06569767 0.08372093 0.06511628 0.05988372 0.06104651 0.05465116\n",
      " 0.06046512 0.05290698 0.05465116 0.04825581 0.05290698 0.05348837\n",
      " 0.06627907 0.06686047 0.05988372 0.06627907 0.06686047 0.07616279\n",
      " 0.06511628 0.06627907 0.06860465 0.07209302 0.07616279 0.07034884\n",
      " 0.07383721 0.07705342 0.07818209 0.0793555  0.08058149 0.08185413\n",
      " 0.08316256 0.0844958  0.08584476 0.08720282 0.08856548 0.08992992\n",
      " 0.0912945  0.09265826 0.0940207  0.09538149 0.09674044 0.09809735\n",
      " 0.09945214 0.10080462 0.10215469 0.10350221]\n",
      "21 day output [[0.10484713]]\n",
      "22 day input [0.08081395 0.07906977 0.07848837 0.07674419 0.07325581 0.0755814\n",
      " 0.0755814  0.08372093 0.08430233 0.07732558 0.06976744 0.06918605\n",
      " 0.07732558 0.08895349 0.07906977 0.07965116 0.07616279 0.08139535\n",
      " 0.08139535 0.08139535 0.07790698 0.0744186  0.08023256 0.06802326\n",
      " 0.06395349 0.06395349 0.06395349 0.05813953 0.05523256 0.05\n",
      " 0.04709302 0.05581395 0.05930233 0.05930233 0.05232558 0.05755814\n",
      " 0.0494186  0.05       0.04186047 0.03313953 0.03023256 0.01453488\n",
      " 0.01395349 0.0244186  0.02383721 0.01686047 0.02093023 0.02790698\n",
      " 0.02732558 0.02848837 0.04244186 0.04767442 0.05232558 0.06569767\n",
      " 0.08372093 0.06511628 0.05988372 0.06104651 0.05465116 0.06046512\n",
      " 0.05290698 0.05465116 0.04825581 0.05290698 0.05348837 0.06627907\n",
      " 0.06686047 0.05988372 0.06627907 0.06686047 0.07616279 0.06511628\n",
      " 0.06627907 0.06860465 0.07209302 0.07616279 0.07034884 0.07383721\n",
      " 0.07705342 0.07818209 0.0793555  0.08058149 0.08185413 0.08316256\n",
      " 0.0844958  0.08584476 0.08720282 0.08856548 0.08992992 0.0912945\n",
      " 0.09265826 0.0940207  0.09538149 0.09674044 0.09809735 0.09945214\n",
      " 0.10080462 0.10215469 0.10350221 0.10484713]\n",
      "22 day output [[0.10618933]]\n",
      "23 day input [0.07906977 0.07848837 0.07674419 0.07325581 0.0755814  0.0755814\n",
      " 0.08372093 0.08430233 0.07732558 0.06976744 0.06918605 0.07732558\n",
      " 0.08895349 0.07906977 0.07965116 0.07616279 0.08139535 0.08139535\n",
      " 0.08139535 0.07790698 0.0744186  0.08023256 0.06802326 0.06395349\n",
      " 0.06395349 0.06395349 0.05813953 0.05523256 0.05       0.04709302\n",
      " 0.05581395 0.05930233 0.05930233 0.05232558 0.05755814 0.0494186\n",
      " 0.05       0.04186047 0.03313953 0.03023256 0.01453488 0.01395349\n",
      " 0.0244186  0.02383721 0.01686047 0.02093023 0.02790698 0.02732558\n",
      " 0.02848837 0.04244186 0.04767442 0.05232558 0.06569767 0.08372093\n",
      " 0.06511628 0.05988372 0.06104651 0.05465116 0.06046512 0.05290698\n",
      " 0.05465116 0.04825581 0.05290698 0.05348837 0.06627907 0.06686047\n",
      " 0.05988372 0.06627907 0.06686047 0.07616279 0.06511628 0.06627907\n",
      " 0.06860465 0.07209302 0.07616279 0.07034884 0.07383721 0.07705342\n",
      " 0.07818209 0.0793555  0.08058149 0.08185413 0.08316256 0.0844958\n",
      " 0.08584476 0.08720282 0.08856548 0.08992992 0.0912945  0.09265826\n",
      " 0.0940207  0.09538149 0.09674044 0.09809735 0.09945214 0.10080462\n",
      " 0.10215469 0.10350221 0.10484713 0.10618933]\n",
      "23 day output [[0.10752881]]\n",
      "24 day input [0.07848837 0.07674419 0.07325581 0.0755814  0.0755814  0.08372093\n",
      " 0.08430233 0.07732558 0.06976744 0.06918605 0.07732558 0.08895349\n",
      " 0.07906977 0.07965116 0.07616279 0.08139535 0.08139535 0.08139535\n",
      " 0.07790698 0.0744186  0.08023256 0.06802326 0.06395349 0.06395349\n",
      " 0.06395349 0.05813953 0.05523256 0.05       0.04709302 0.05581395\n",
      " 0.05930233 0.05930233 0.05232558 0.05755814 0.0494186  0.05\n",
      " 0.04186047 0.03313953 0.03023256 0.01453488 0.01395349 0.0244186\n",
      " 0.02383721 0.01686047 0.02093023 0.02790698 0.02732558 0.02848837\n",
      " 0.04244186 0.04767442 0.05232558 0.06569767 0.08372093 0.06511628\n",
      " 0.05988372 0.06104651 0.05465116 0.06046512 0.05290698 0.05465116\n",
      " 0.04825581 0.05290698 0.05348837 0.06627907 0.06686047 0.05988372\n",
      " 0.06627907 0.06686047 0.07616279 0.06511628 0.06627907 0.06860465\n",
      " 0.07209302 0.07616279 0.07034884 0.07383721 0.07705342 0.07818209\n",
      " 0.0793555  0.08058149 0.08185413 0.08316256 0.0844958  0.08584476\n",
      " 0.08720282 0.08856548 0.08992992 0.0912945  0.09265826 0.0940207\n",
      " 0.09538149 0.09674044 0.09809735 0.09945214 0.10080462 0.10215469\n",
      " 0.10350221 0.10484713 0.10618933 0.10752881]\n",
      "24 day output [[0.10886548]]\n",
      "25 day input [0.07674419 0.07325581 0.0755814  0.0755814  0.08372093 0.08430233\n",
      " 0.07732558 0.06976744 0.06918605 0.07732558 0.08895349 0.07906977\n",
      " 0.07965116 0.07616279 0.08139535 0.08139535 0.08139535 0.07790698\n",
      " 0.0744186  0.08023256 0.06802326 0.06395349 0.06395349 0.06395349\n",
      " 0.05813953 0.05523256 0.05       0.04709302 0.05581395 0.05930233\n",
      " 0.05930233 0.05232558 0.05755814 0.0494186  0.05       0.04186047\n",
      " 0.03313953 0.03023256 0.01453488 0.01395349 0.0244186  0.02383721\n",
      " 0.01686047 0.02093023 0.02790698 0.02732558 0.02848837 0.04244186\n",
      " 0.04767442 0.05232558 0.06569767 0.08372093 0.06511628 0.05988372\n",
      " 0.06104651 0.05465116 0.06046512 0.05290698 0.05465116 0.04825581\n",
      " 0.05290698 0.05348837 0.06627907 0.06686047 0.05988372 0.06627907\n",
      " 0.06686047 0.07616279 0.06511628 0.06627907 0.06860465 0.07209302\n",
      " 0.07616279 0.07034884 0.07383721 0.07705342 0.07818209 0.0793555\n",
      " 0.08058149 0.08185413 0.08316256 0.0844958  0.08584476 0.08720282\n",
      " 0.08856548 0.08992992 0.0912945  0.09265826 0.0940207  0.09538149\n",
      " 0.09674044 0.09809735 0.09945214 0.10080462 0.10215469 0.10350221\n",
      " 0.10484713 0.10618933 0.10752881 0.10886548]\n",
      "25 day output [[0.11019935]]\n",
      "26 day input [0.07325581 0.0755814  0.0755814  0.08372093 0.08430233 0.07732558\n",
      " 0.06976744 0.06918605 0.07732558 0.08895349 0.07906977 0.07965116\n",
      " 0.07616279 0.08139535 0.08139535 0.08139535 0.07790698 0.0744186\n",
      " 0.08023256 0.06802326 0.06395349 0.06395349 0.06395349 0.05813953\n",
      " 0.05523256 0.05       0.04709302 0.05581395 0.05930233 0.05930233\n",
      " 0.05232558 0.05755814 0.0494186  0.05       0.04186047 0.03313953\n",
      " 0.03023256 0.01453488 0.01395349 0.0244186  0.02383721 0.01686047\n",
      " 0.02093023 0.02790698 0.02732558 0.02848837 0.04244186 0.04767442\n",
      " 0.05232558 0.06569767 0.08372093 0.06511628 0.05988372 0.06104651\n",
      " 0.05465116 0.06046512 0.05290698 0.05465116 0.04825581 0.05290698\n",
      " 0.05348837 0.06627907 0.06686047 0.05988372 0.06627907 0.06686047\n",
      " 0.07616279 0.06511628 0.06627907 0.06860465 0.07209302 0.07616279\n",
      " 0.07034884 0.07383721 0.07705342 0.07818209 0.0793555  0.08058149\n",
      " 0.08185413 0.08316256 0.0844958  0.08584476 0.08720282 0.08856548\n",
      " 0.08992992 0.0912945  0.09265826 0.0940207  0.09538149 0.09674044\n",
      " 0.09809735 0.09945214 0.10080462 0.10215469 0.10350221 0.10484713\n",
      " 0.10618933 0.10752881 0.10886548 0.11019935]\n",
      "26 day output [[0.11153035]]\n",
      "27 day input [0.0755814  0.0755814  0.08372093 0.08430233 0.07732558 0.06976744\n",
      " 0.06918605 0.07732558 0.08895349 0.07906977 0.07965116 0.07616279\n",
      " 0.08139535 0.08139535 0.08139535 0.07790698 0.0744186  0.08023256\n",
      " 0.06802326 0.06395349 0.06395349 0.06395349 0.05813953 0.05523256\n",
      " 0.05       0.04709302 0.05581395 0.05930233 0.05930233 0.05232558\n",
      " 0.05755814 0.0494186  0.05       0.04186047 0.03313953 0.03023256\n",
      " 0.01453488 0.01395349 0.0244186  0.02383721 0.01686047 0.02093023\n",
      " 0.02790698 0.02732558 0.02848837 0.04244186 0.04767442 0.05232558\n",
      " 0.06569767 0.08372093 0.06511628 0.05988372 0.06104651 0.05465116\n",
      " 0.06046512 0.05290698 0.05465116 0.04825581 0.05290698 0.05348837\n",
      " 0.06627907 0.06686047 0.05988372 0.06627907 0.06686047 0.07616279\n",
      " 0.06511628 0.06627907 0.06860465 0.07209302 0.07616279 0.07034884\n",
      " 0.07383721 0.07705342 0.07818209 0.0793555  0.08058149 0.08185413\n",
      " 0.08316256 0.0844958  0.08584476 0.08720282 0.08856548 0.08992992\n",
      " 0.0912945  0.09265826 0.0940207  0.09538149 0.09674044 0.09809735\n",
      " 0.09945214 0.10080462 0.10215469 0.10350221 0.10484713 0.10618933\n",
      " 0.10752881 0.10886548 0.11019935 0.11153035]\n",
      "27 day output [[0.11285857]]\n",
      "28 day input [0.0755814  0.08372093 0.08430233 0.07732558 0.06976744 0.06918605\n",
      " 0.07732558 0.08895349 0.07906977 0.07965116 0.07616279 0.08139535\n",
      " 0.08139535 0.08139535 0.07790698 0.0744186  0.08023256 0.06802326\n",
      " 0.06395349 0.06395349 0.06395349 0.05813953 0.05523256 0.05\n",
      " 0.04709302 0.05581395 0.05930233 0.05930233 0.05232558 0.05755814\n",
      " 0.0494186  0.05       0.04186047 0.03313953 0.03023256 0.01453488\n",
      " 0.01395349 0.0244186  0.02383721 0.01686047 0.02093023 0.02790698\n",
      " 0.02732558 0.02848837 0.04244186 0.04767442 0.05232558 0.06569767\n",
      " 0.08372093 0.06511628 0.05988372 0.06104651 0.05465116 0.06046512\n",
      " 0.05290698 0.05465116 0.04825581 0.05290698 0.05348837 0.06627907\n",
      " 0.06686047 0.05988372 0.06627907 0.06686047 0.07616279 0.06511628\n",
      " 0.06627907 0.06860465 0.07209302 0.07616279 0.07034884 0.07383721\n",
      " 0.07705342 0.07818209 0.0793555  0.08058149 0.08185413 0.08316256\n",
      " 0.0844958  0.08584476 0.08720282 0.08856548 0.08992992 0.0912945\n",
      " 0.09265826 0.0940207  0.09538149 0.09674044 0.09809735 0.09945214\n",
      " 0.10080462 0.10215469 0.10350221 0.10484713 0.10618933 0.10752881\n",
      " 0.10886548 0.11019935 0.11153035 0.11285857]\n",
      "28 day output [[0.11418397]]\n",
      "29 day input [0.08372093 0.08430233 0.07732558 0.06976744 0.06918605 0.07732558\n",
      " 0.08895349 0.07906977 0.07965116 0.07616279 0.08139535 0.08139535\n",
      " 0.08139535 0.07790698 0.0744186  0.08023256 0.06802326 0.06395349\n",
      " 0.06395349 0.06395349 0.05813953 0.05523256 0.05       0.04709302\n",
      " 0.05581395 0.05930233 0.05930233 0.05232558 0.05755814 0.0494186\n",
      " 0.05       0.04186047 0.03313953 0.03023256 0.01453488 0.01395349\n",
      " 0.0244186  0.02383721 0.01686047 0.02093023 0.02790698 0.02732558\n",
      " 0.02848837 0.04244186 0.04767442 0.05232558 0.06569767 0.08372093\n",
      " 0.06511628 0.05988372 0.06104651 0.05465116 0.06046512 0.05290698\n",
      " 0.05465116 0.04825581 0.05290698 0.05348837 0.06627907 0.06686047\n",
      " 0.05988372 0.06627907 0.06686047 0.07616279 0.06511628 0.06627907\n",
      " 0.06860465 0.07209302 0.07616279 0.07034884 0.07383721 0.07705342\n",
      " 0.07818209 0.0793555  0.08058149 0.08185413 0.08316256 0.0844958\n",
      " 0.08584476 0.08720282 0.08856548 0.08992992 0.0912945  0.09265826\n",
      " 0.0940207  0.09538149 0.09674044 0.09809735 0.09945214 0.10080462\n",
      " 0.10215469 0.10350221 0.10484713 0.10618933 0.10752881 0.10886548\n",
      " 0.11019935 0.11153035 0.11285857 0.11418397]\n",
      "29 day output [[0.1155066]]\n",
      "[[0.07705342024564743], [0.07818208634853363], [0.07935550063848495], [0.08058149367570877], [0.08185413479804993], [0.08316256105899811], [0.08449579775333405], [0.08584476262331009], [0.08720282465219498], [0.08856547623872757], [0.08992992341518402], [0.09129450470209122], [0.09265825897455215], [0.09402070194482803], [0.0953814908862114], [0.09674043953418732], [0.09809735417366028], [0.09945213794708252], [0.10080461949110031], [0.1021546870470047], [0.10350220650434494], [0.10484713315963745], [0.10618932545185089], [0.10752881318330765], [0.10886547714471817], [0.11019934713840485], [0.1115303486585617], [0.11285857111215591], [0.11418396979570389], [0.1155066043138504]]\n"
     ]
    }
   ],
   "source": [
    "lst_output = []\n",
    "n_steps = 100\n",
    "i = 0\n",
    "while(i<30):\n",
    "    if(len(temp_input)>100):\n",
    "        x_input = np.array(temp_input[1:])\n",
    "        print(\"{} day input {}\".format(i,x_input))\n",
    "        x_input = x_input.reshape(1,-1)\n",
    "        x_input = x_input.reshape(1,n_steps,1)\n",
    "        yhat = model.predict(x_input,verbose = 0)\n",
    "        print(\"{} day output {}\".format(i,yhat))\n",
    "        temp_input.extend(yhat[0].tolist())\n",
    "        temp_input = temp_input[1:]\n",
    "        lst_output.extend(yhat.tolist())\n",
    "        i = i+1\n",
    "    else:\n",
    "        x_input = x_input.reshape(1,n_steps,1)\n",
    "        yhat = model.predict(x_input, verbose=0)\n",
    "        print(yhat[0])\n",
    "        temp_input.extend(yhat[0].tolist())\n",
    "        print(len(temp_input))\n",
    "        lst_output.extend(yhat.tolist())\n",
    "        i = i+1\n",
    "        \n",
    "print(lst_output)"
   ]
  },
  {
   "cell_type": "code",
   "execution_count": 31,
   "id": "1f3c4140",
   "metadata": {},
   "outputs": [],
   "source": [
    "day_new = np.arange(1,101)\n",
    "day_pred = np.arange(101,131)"
   ]
  },
  {
   "cell_type": "code",
   "execution_count": 32,
   "id": "7ac41be6",
   "metadata": {},
   "outputs": [
    {
     "data": {
      "text/plain": [
       "1257"
      ]
     },
     "execution_count": 32,
     "metadata": {},
     "output_type": "execute_result"
    }
   ],
   "source": [
    "len(df1)"
   ]
  },
  {
   "cell_type": "code",
   "execution_count": 33,
   "id": "de1b4d43",
   "metadata": {},
   "outputs": [
    {
     "data": {
      "text/plain": [
       "[<matplotlib.lines.Line2D at 0x28b6e5f9250>]"
      ]
     },
     "execution_count": 33,
     "metadata": {},
     "output_type": "execute_result"
    },
    {
     "data": {
      "image/png": "[encoded data removed]",
      "text/plain": [
       "<Figure size 432x288 with 1 Axes>"
      ]
     },
     "metadata": {
      "needs_background": "light"
     },
     "output_type": "display_data"
    }
   ],
   "source": [
    "#1157 came from len(df1)-100   that is 1257-100 = 1157\n",
    "plt.plot(day_new,scaler.inverse_transform(df1[1157:]))\n",
    "plt.plot(day_pred,scaler.inverse_transform(lst_output))"
   ]
  },
  {
   "cell_type": "code",
   "execution_count": 34,
   "id": "2e5e31a5",
   "metadata": {},
   "outputs": [
    {
     "data": {
      "text/plain": [
       "[<matplotlib.lines.Line2D at 0x28b6e5c9e20>]"
      ]
     },
     "execution_count": 34,
     "metadata": {},
     "output_type": "execute_result"
    },
    {
     "data": {
      "image/png": "[encoded data removed]",
      "text/plain": [
       "<Figure size 432x288 with 1 Axes>"
      ]
     },
     "metadata": {
      "needs_background": "light"
     },
     "output_type": "display_data"
    }
   ],
   "source": [
    "#combined data plotted with prediction\n",
    "df3 = df1.tolist()\n",
    "df3.extend(lst_output)\n",
    "plt.plot(df3[1000:])"
   ]
  }
 ],
 "metadata": {
  "kernelspec": {
   "display_name": "Python 3 (ipykernel)",
   "language": "python",
   "name": "python3"
  },
  "language_info": {
   "codemirror_mode": {
    "name": "ipython",
    "version": 3
   },
   "file_extension": ".py",
   "mimetype": "text/x-python",
   "name": "python",
   "nbconvert_exporter": "python",
   "pygments_lexer": "ipython3",
   "version": "3.9.12"
  }
 },
 "nbformat": 4,
 "nbformat_minor": 5
}
